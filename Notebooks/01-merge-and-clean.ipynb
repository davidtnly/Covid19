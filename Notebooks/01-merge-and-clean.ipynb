{
 "cells": [
  {
   "cell_type": "code",
   "execution_count": 1,
   "metadata": {},
   "outputs": [],
   "source": [
    "import os\n",
    "import pandas as pd"
   ]
  },
  {
   "cell_type": "code",
   "execution_count": 2,
   "metadata": {},
   "outputs": [
    {
     "data": {
      "text/plain": [
       "'C:\\\\Users\\\\David Ly\\\\Documents\\\\Programming\\\\COVID19\\\\Merge'"
      ]
     },
     "execution_count": 2,
     "metadata": {},
     "output_type": "execute_result"
    }
   ],
   "source": [
    "os.path.abspath('Merge\\\\')"
   ]
  },
  {
   "cell_type": "code",
   "execution_count": 3,
   "metadata": {},
   "outputs": [],
   "source": [
    "merge_dir = os.path.abspath('Merge\\\\')"
   ]
  },
  {
   "cell_type": "code",
   "execution_count": 4,
   "metadata": {},
   "outputs": [],
   "source": [
    "merge_files = os.listdir(merge_dir)"
   ]
  },
  {
   "cell_type": "code",
   "execution_count": 5,
   "metadata": {},
   "outputs": [
    {
     "data": {
      "text/plain": [
       "'C:\\\\Users\\\\David Ly\\\\Documents\\\\Programming\\\\COVID19'"
      ]
     },
     "execution_count": 5,
     "metadata": {},
     "output_type": "execute_result"
    }
   ],
   "source": [
    "os.getcwd()"
   ]
  },
  {
   "cell_type": "code",
   "execution_count": 6,
   "metadata": {},
   "outputs": [
    {
     "data": {
      "text/plain": [
       "['.git',\n",
       " '.gitignore',\n",
       " '.ipynb_checkpoints',\n",
       " '01-merge-and-clean.ipynb',\n",
       " '2 - Get country coordinates.xlsx',\n",
       " '2019-nCoV Global Cases (COVID-19 Wuhan).twbx',\n",
       " '2019_nCoV_data.xlsx',\n",
       " '3 - Run Alteryx.xlsx',\n",
       " '4 - Alteryx Coordinates.xlsx',\n",
       " 'Alteryx Strain Coordinates.xlsx',\n",
       " 'AnatomyPoints.xlsx',\n",
       " 'Archive',\n",
       " 'cleaned_data.csv',\n",
       " 'Coordinates.xlsx',\n",
       " 'CountryComparison.xlsx',\n",
       " 'genome_metadata.xlsx',\n",
       " 'google_trends.xlsx',\n",
       " 'Images',\n",
       " 'Merge',\n",
       " 'README.md',\n",
       " 'Run Alteryx Strain Data.xlsx',\n",
       " 'VirusComparison.xlsx']"
      ]
     },
     "execution_count": 6,
     "metadata": {},
     "output_type": "execute_result"
    }
   ],
   "source": [
    "os.listdir()"
   ]
  },
  {
   "cell_type": "code",
   "execution_count": 7,
   "metadata": {},
   "outputs": [],
   "source": [
    "os.chdir('Merge')"
   ]
  },
  {
   "cell_type": "code",
   "execution_count": 8,
   "metadata": {},
   "outputs": [
    {
     "data": {
      "text/html": [
       "<div>\n",
       "<style scoped>\n",
       "    .dataframe tbody tr th:only-of-type {\n",
       "        vertical-align: middle;\n",
       "    }\n",
       "\n",
       "    .dataframe tbody tr th {\n",
       "        vertical-align: top;\n",
       "    }\n",
       "\n",
       "    .dataframe thead th {\n",
       "        text-align: right;\n",
       "    }\n",
       "</style>\n",
       "<table border=\"1\" class=\"dataframe\">\n",
       "  <thead>\n",
       "    <tr style=\"text-align: right;\">\n",
       "      <th></th>\n",
       "      <th>FIPS</th>\n",
       "      <th>Admin2</th>\n",
       "      <th>Province_State</th>\n",
       "      <th>Country_Region</th>\n",
       "      <th>Last_Update</th>\n",
       "      <th>Lat</th>\n",
       "      <th>Long_</th>\n",
       "      <th>Confirmed</th>\n",
       "      <th>Deaths</th>\n",
       "      <th>Recovered</th>\n",
       "      <th>Active</th>\n",
       "      <th>Combined_Key</th>\n",
       "      <th>Incidence_Rate</th>\n",
       "      <th>Case-Fatality_Ratio</th>\n",
       "    </tr>\n",
       "  </thead>\n",
       "  <tbody>\n",
       "    <tr>\n",
       "      <th>0</th>\n",
       "      <td>45001.0</td>\n",
       "      <td>Abbeville</td>\n",
       "      <td>South Carolina</td>\n",
       "      <td>US</td>\n",
       "      <td>2020-07-23 05:15:04</td>\n",
       "      <td>34.223334</td>\n",
       "      <td>-82.461707</td>\n",
       "      <td>249</td>\n",
       "      <td>2</td>\n",
       "      <td>0</td>\n",
       "      <td>247.0</td>\n",
       "      <td>Abbeville, South Carolina, US</td>\n",
       "      <td>1015.207730</td>\n",
       "      <td>0.803213</td>\n",
       "    </tr>\n",
       "    <tr>\n",
       "      <th>1</th>\n",
       "      <td>22001.0</td>\n",
       "      <td>Acadia</td>\n",
       "      <td>Louisiana</td>\n",
       "      <td>US</td>\n",
       "      <td>2020-07-23 05:15:04</td>\n",
       "      <td>30.295065</td>\n",
       "      <td>-92.414197</td>\n",
       "      <td>2011</td>\n",
       "      <td>59</td>\n",
       "      <td>0</td>\n",
       "      <td>1952.0</td>\n",
       "      <td>Acadia, Louisiana, US</td>\n",
       "      <td>3241.195906</td>\n",
       "      <td>2.933864</td>\n",
       "    </tr>\n",
       "    <tr>\n",
       "      <th>2</th>\n",
       "      <td>51001.0</td>\n",
       "      <td>Accomack</td>\n",
       "      <td>Virginia</td>\n",
       "      <td>US</td>\n",
       "      <td>2020-07-23 05:15:04</td>\n",
       "      <td>37.767072</td>\n",
       "      <td>-75.632346</td>\n",
       "      <td>1057</td>\n",
       "      <td>15</td>\n",
       "      <td>0</td>\n",
       "      <td>1042.0</td>\n",
       "      <td>Accomack, Virginia, US</td>\n",
       "      <td>3270.825597</td>\n",
       "      <td>1.419111</td>\n",
       "    </tr>\n",
       "    <tr>\n",
       "      <th>3</th>\n",
       "      <td>16001.0</td>\n",
       "      <td>Ada</td>\n",
       "      <td>Idaho</td>\n",
       "      <td>US</td>\n",
       "      <td>2020-07-23 05:15:04</td>\n",
       "      <td>43.452658</td>\n",
       "      <td>-116.241552</td>\n",
       "      <td>6423</td>\n",
       "      <td>40</td>\n",
       "      <td>0</td>\n",
       "      <td>6383.0</td>\n",
       "      <td>Ada, Idaho, US</td>\n",
       "      <td>1333.715403</td>\n",
       "      <td>0.622762</td>\n",
       "    </tr>\n",
       "    <tr>\n",
       "      <th>4</th>\n",
       "      <td>19001.0</td>\n",
       "      <td>Adair</td>\n",
       "      <td>Iowa</td>\n",
       "      <td>US</td>\n",
       "      <td>2020-07-23 05:15:04</td>\n",
       "      <td>41.330756</td>\n",
       "      <td>-94.471059</td>\n",
       "      <td>21</td>\n",
       "      <td>0</td>\n",
       "      <td>0</td>\n",
       "      <td>21.0</td>\n",
       "      <td>Adair, Iowa, US</td>\n",
       "      <td>293.624161</td>\n",
       "      <td>0.000000</td>\n",
       "    </tr>\n",
       "  </tbody>\n",
       "</table>\n",
       "</div>"
      ],
      "text/plain": [
       "      FIPS     Admin2  Province_State Country_Region          Last_Update  \\\n",
       "0  45001.0  Abbeville  South Carolina             US  2020-07-23 05:15:04   \n",
       "1  22001.0     Acadia       Louisiana             US  2020-07-23 05:15:04   \n",
       "2  51001.0   Accomack        Virginia             US  2020-07-23 05:15:04   \n",
       "3  16001.0        Ada           Idaho             US  2020-07-23 05:15:04   \n",
       "4  19001.0      Adair            Iowa             US  2020-07-23 05:15:04   \n",
       "\n",
       "         Lat       Long_  Confirmed  Deaths  Recovered  Active  \\\n",
       "0  34.223334  -82.461707        249       2          0   247.0   \n",
       "1  30.295065  -92.414197       2011      59          0  1952.0   \n",
       "2  37.767072  -75.632346       1057      15          0  1042.0   \n",
       "3  43.452658 -116.241552       6423      40          0  6383.0   \n",
       "4  41.330756  -94.471059         21       0          0    21.0   \n",
       "\n",
       "                    Combined_Key  Incidence_Rate  Case-Fatality_Ratio  \n",
       "0  Abbeville, South Carolina, US     1015.207730             0.803213  \n",
       "1          Acadia, Louisiana, US     3241.195906             2.933864  \n",
       "2         Accomack, Virginia, US     3270.825597             1.419111  \n",
       "3                 Ada, Idaho, US     1333.715403             0.622762  \n",
       "4                Adair, Iowa, US      293.624161             0.000000  "
      ]
     },
     "execution_count": 8,
     "metadata": {},
     "output_type": "execute_result"
    }
   ],
   "source": [
    "df = pd.DataFrame()\n",
    "for file in merge_files:\n",
    "    if file.endswith('.csv'):\n",
    "        df = df.append(pd.read_csv(file), ignore_index=True)\n",
    "df.head()"
   ]
  },
  {
   "cell_type": "code",
   "execution_count": 9,
   "metadata": {},
   "outputs": [
    {
     "data": {
      "text/plain": [
       "31441"
      ]
     },
     "execution_count": 9,
     "metadata": {},
     "output_type": "execute_result"
    }
   ],
   "source": [
    "len(df)"
   ]
  },
  {
   "cell_type": "code",
   "execution_count": 10,
   "metadata": {},
   "outputs": [
    {
     "data": {
      "text/plain": [
       "(31441, 14)"
      ]
     },
     "execution_count": 10,
     "metadata": {},
     "output_type": "execute_result"
    }
   ],
   "source": [
    "df.shape"
   ]
  },
  {
   "cell_type": "code",
   "execution_count": 11,
   "metadata": {},
   "outputs": [],
   "source": [
    "new_df = df"
   ]
  },
  {
   "cell_type": "code",
   "execution_count": 12,
   "metadata": {},
   "outputs": [],
   "source": [
    "new_df['replace_ps'] = new_df['Admin2'].fillna('1')"
   ]
  },
  {
   "cell_type": "code",
   "execution_count": 13,
   "metadata": {},
   "outputs": [
    {
     "data": {
      "text/html": [
       "<div>\n",
       "<style scoped>\n",
       "    .dataframe tbody tr th:only-of-type {\n",
       "        vertical-align: middle;\n",
       "    }\n",
       "\n",
       "    .dataframe tbody tr th {\n",
       "        vertical-align: top;\n",
       "    }\n",
       "\n",
       "    .dataframe thead th {\n",
       "        text-align: right;\n",
       "    }\n",
       "</style>\n",
       "<table border=\"1\" class=\"dataframe\">\n",
       "  <thead>\n",
       "    <tr style=\"text-align: right;\">\n",
       "      <th></th>\n",
       "      <th>FIPS</th>\n",
       "      <th>Admin2</th>\n",
       "      <th>Province_State</th>\n",
       "      <th>Country_Region</th>\n",
       "      <th>Last_Update</th>\n",
       "      <th>Lat</th>\n",
       "      <th>Long_</th>\n",
       "      <th>Confirmed</th>\n",
       "      <th>Deaths</th>\n",
       "      <th>Recovered</th>\n",
       "      <th>Active</th>\n",
       "      <th>Combined_Key</th>\n",
       "      <th>Incidence_Rate</th>\n",
       "      <th>Case-Fatality_Ratio</th>\n",
       "      <th>replace_ps</th>\n",
       "    </tr>\n",
       "  </thead>\n",
       "  <tbody>\n",
       "    <tr>\n",
       "      <th>31436</th>\n",
       "      <td>NaN</td>\n",
       "      <td>NaN</td>\n",
       "      <td>Unknown</td>\n",
       "      <td>Colombia</td>\n",
       "      <td>2020-07-17 22:34:48</td>\n",
       "      <td>NaN</td>\n",
       "      <td>NaN</td>\n",
       "      <td>0</td>\n",
       "      <td>0</td>\n",
       "      <td>0</td>\n",
       "      <td>0.0</td>\n",
       "      <td>Unknown, Colombia</td>\n",
       "      <td>NaN</td>\n",
       "      <td>NaN</td>\n",
       "      <td>1</td>\n",
       "    </tr>\n",
       "    <tr>\n",
       "      <th>31437</th>\n",
       "      <td>2070.0</td>\n",
       "      <td>Dillingham</td>\n",
       "      <td>Alaska</td>\n",
       "      <td>US</td>\n",
       "      <td>2020-07-17 18:35:12</td>\n",
       "      <td>59.796037</td>\n",
       "      <td>-158.238194</td>\n",
       "      <td>1</td>\n",
       "      <td>0</td>\n",
       "      <td>0</td>\n",
       "      <td>1.0</td>\n",
       "      <td>Dillingham, Alaska, US</td>\n",
       "      <td>20.341741</td>\n",
       "      <td>0.0</td>\n",
       "      <td>Dillingham</td>\n",
       "    </tr>\n",
       "    <tr>\n",
       "      <th>31438</th>\n",
       "      <td>NaN</td>\n",
       "      <td>NaN</td>\n",
       "      <td>Grand Princess</td>\n",
       "      <td>Canada</td>\n",
       "      <td>2020-07-13 12:34:33</td>\n",
       "      <td>NaN</td>\n",
       "      <td>NaN</td>\n",
       "      <td>13</td>\n",
       "      <td>0</td>\n",
       "      <td>13</td>\n",
       "      <td>0.0</td>\n",
       "      <td>Grand Princess, Canada</td>\n",
       "      <td>NaN</td>\n",
       "      <td>0.0</td>\n",
       "      <td>1</td>\n",
       "    </tr>\n",
       "    <tr>\n",
       "      <th>31439</th>\n",
       "      <td>16061.0</td>\n",
       "      <td>Lewis</td>\n",
       "      <td>Idaho</td>\n",
       "      <td>US</td>\n",
       "      <td>2020-07-10 02:34:22</td>\n",
       "      <td>46.233153</td>\n",
       "      <td>-116.434146</td>\n",
       "      <td>1</td>\n",
       "      <td>0</td>\n",
       "      <td>0</td>\n",
       "      <td>1.0</td>\n",
       "      <td>Lewis, Idaho, US</td>\n",
       "      <td>26.055237</td>\n",
       "      <td>0.0</td>\n",
       "      <td>Lewis</td>\n",
       "    </tr>\n",
       "    <tr>\n",
       "      <th>31440</th>\n",
       "      <td>41069.0</td>\n",
       "      <td>Wheeler</td>\n",
       "      <td>Oregon</td>\n",
       "      <td>US</td>\n",
       "      <td>2020-07-06 19:33:59</td>\n",
       "      <td>44.726982</td>\n",
       "      <td>-120.028143</td>\n",
       "      <td>0</td>\n",
       "      <td>0</td>\n",
       "      <td>0</td>\n",
       "      <td>0.0</td>\n",
       "      <td>Wheeler, Oregon, US</td>\n",
       "      <td>0.000000</td>\n",
       "      <td>NaN</td>\n",
       "      <td>Wheeler</td>\n",
       "    </tr>\n",
       "  </tbody>\n",
       "</table>\n",
       "</div>"
      ],
      "text/plain": [
       "          FIPS      Admin2  Province_State Country_Region  \\\n",
       "31436      NaN         NaN         Unknown       Colombia   \n",
       "31437   2070.0  Dillingham          Alaska             US   \n",
       "31438      NaN         NaN  Grand Princess         Canada   \n",
       "31439  16061.0       Lewis           Idaho             US   \n",
       "31440  41069.0     Wheeler          Oregon             US   \n",
       "\n",
       "               Last_Update        Lat       Long_  Confirmed  Deaths  \\\n",
       "31436  2020-07-17 22:34:48        NaN         NaN          0       0   \n",
       "31437  2020-07-17 18:35:12  59.796037 -158.238194          1       0   \n",
       "31438  2020-07-13 12:34:33        NaN         NaN         13       0   \n",
       "31439  2020-07-10 02:34:22  46.233153 -116.434146          1       0   \n",
       "31440  2020-07-06 19:33:59  44.726982 -120.028143          0       0   \n",
       "\n",
       "       Recovered  Active            Combined_Key  Incidence_Rate  \\\n",
       "31436          0     0.0       Unknown, Colombia             NaN   \n",
       "31437          0     1.0  Dillingham, Alaska, US       20.341741   \n",
       "31438         13     0.0  Grand Princess, Canada             NaN   \n",
       "31439          0     1.0        Lewis, Idaho, US       26.055237   \n",
       "31440          0     0.0     Wheeler, Oregon, US        0.000000   \n",
       "\n",
       "       Case-Fatality_Ratio  replace_ps  \n",
       "31436                  NaN           1  \n",
       "31437                  0.0  Dillingham  \n",
       "31438                  0.0           1  \n",
       "31439                  0.0       Lewis  \n",
       "31440                  NaN     Wheeler  "
      ]
     },
     "execution_count": 13,
     "metadata": {},
     "output_type": "execute_result"
    }
   ],
   "source": [
    "new_df.tail()"
   ]
  },
  {
   "cell_type": "code",
   "execution_count": 14,
   "metadata": {},
   "outputs": [],
   "source": [
    "new_df['cleaned_province_state'] = new_df['Admin2'] + ', ' + new_df['Province_State']"
   ]
  },
  {
   "cell_type": "code",
   "execution_count": 15,
   "metadata": {},
   "outputs": [
    {
     "data": {
      "text/plain": [
       "0    Abbeville, South Carolina\n",
       "1            Acadia, Louisiana\n",
       "2           Accomack, Virginia\n",
       "3                   Ada, Idaho\n",
       "4                  Adair, Iowa\n",
       "Name: cleaned_province_state, dtype: object"
      ]
     },
     "execution_count": 15,
     "metadata": {},
     "output_type": "execute_result"
    }
   ],
   "source": [
    "new_df['cleaned_province_state'].head()"
   ]
  },
  {
   "cell_type": "code",
   "execution_count": 16,
   "metadata": {},
   "outputs": [
    {
     "data": {
      "text/plain": [
       "31436                   NaN\n",
       "31437    Dillingham, Alaska\n",
       "31438                   NaN\n",
       "31439          Lewis, Idaho\n",
       "31440       Wheeler, Oregon\n",
       "Name: cleaned_province_state, dtype: object"
      ]
     },
     "execution_count": 16,
     "metadata": {},
     "output_type": "execute_result"
    }
   ],
   "source": [
    "new_df['cleaned_province_state'].tail()"
   ]
  },
  {
   "cell_type": "code",
   "execution_count": 17,
   "metadata": {},
   "outputs": [],
   "source": [
    "new_df['cleaned_province_state'] = new_df['cleaned_province_state'].fillna(new_df['Province_State'],axis=0)"
   ]
  },
  {
   "cell_type": "code",
   "execution_count": 18,
   "metadata": {},
   "outputs": [],
   "source": [
    "new_df['cleaned_province_state'] = new_df['cleaned_province_state'].fillna(new_df['Country_Region'],axis=0)"
   ]
  },
  {
   "cell_type": "code",
   "execution_count": 19,
   "metadata": {},
   "outputs": [
    {
     "data": {
      "text/html": [
       "<div>\n",
       "<style scoped>\n",
       "    .dataframe tbody tr th:only-of-type {\n",
       "        vertical-align: middle;\n",
       "    }\n",
       "\n",
       "    .dataframe tbody tr th {\n",
       "        vertical-align: top;\n",
       "    }\n",
       "\n",
       "    .dataframe thead th {\n",
       "        text-align: right;\n",
       "    }\n",
       "</style>\n",
       "<table border=\"1\" class=\"dataframe\">\n",
       "  <thead>\n",
       "    <tr style=\"text-align: right;\">\n",
       "      <th></th>\n",
       "      <th>FIPS</th>\n",
       "      <th>Admin2</th>\n",
       "      <th>Province_State</th>\n",
       "      <th>Country_Region</th>\n",
       "      <th>Last_Update</th>\n",
       "      <th>Lat</th>\n",
       "      <th>Long_</th>\n",
       "      <th>Confirmed</th>\n",
       "      <th>Deaths</th>\n",
       "      <th>Recovered</th>\n",
       "      <th>Active</th>\n",
       "      <th>Combined_Key</th>\n",
       "      <th>Incidence_Rate</th>\n",
       "      <th>Case-Fatality_Ratio</th>\n",
       "      <th>replace_ps</th>\n",
       "      <th>cleaned_province_state</th>\n",
       "    </tr>\n",
       "  </thead>\n",
       "  <tbody>\n",
       "    <tr>\n",
       "      <th>31436</th>\n",
       "      <td>NaN</td>\n",
       "      <td>NaN</td>\n",
       "      <td>Unknown</td>\n",
       "      <td>Colombia</td>\n",
       "      <td>2020-07-17 22:34:48</td>\n",
       "      <td>NaN</td>\n",
       "      <td>NaN</td>\n",
       "      <td>0</td>\n",
       "      <td>0</td>\n",
       "      <td>0</td>\n",
       "      <td>0.0</td>\n",
       "      <td>Unknown, Colombia</td>\n",
       "      <td>NaN</td>\n",
       "      <td>NaN</td>\n",
       "      <td>1</td>\n",
       "      <td>Unknown</td>\n",
       "    </tr>\n",
       "    <tr>\n",
       "      <th>31437</th>\n",
       "      <td>2070.0</td>\n",
       "      <td>Dillingham</td>\n",
       "      <td>Alaska</td>\n",
       "      <td>US</td>\n",
       "      <td>2020-07-17 18:35:12</td>\n",
       "      <td>59.796037</td>\n",
       "      <td>-158.238194</td>\n",
       "      <td>1</td>\n",
       "      <td>0</td>\n",
       "      <td>0</td>\n",
       "      <td>1.0</td>\n",
       "      <td>Dillingham, Alaska, US</td>\n",
       "      <td>20.341741</td>\n",
       "      <td>0.0</td>\n",
       "      <td>Dillingham</td>\n",
       "      <td>Dillingham, Alaska</td>\n",
       "    </tr>\n",
       "    <tr>\n",
       "      <th>31438</th>\n",
       "      <td>NaN</td>\n",
       "      <td>NaN</td>\n",
       "      <td>Grand Princess</td>\n",
       "      <td>Canada</td>\n",
       "      <td>2020-07-13 12:34:33</td>\n",
       "      <td>NaN</td>\n",
       "      <td>NaN</td>\n",
       "      <td>13</td>\n",
       "      <td>0</td>\n",
       "      <td>13</td>\n",
       "      <td>0.0</td>\n",
       "      <td>Grand Princess, Canada</td>\n",
       "      <td>NaN</td>\n",
       "      <td>0.0</td>\n",
       "      <td>1</td>\n",
       "      <td>Grand Princess</td>\n",
       "    </tr>\n",
       "    <tr>\n",
       "      <th>31439</th>\n",
       "      <td>16061.0</td>\n",
       "      <td>Lewis</td>\n",
       "      <td>Idaho</td>\n",
       "      <td>US</td>\n",
       "      <td>2020-07-10 02:34:22</td>\n",
       "      <td>46.233153</td>\n",
       "      <td>-116.434146</td>\n",
       "      <td>1</td>\n",
       "      <td>0</td>\n",
       "      <td>0</td>\n",
       "      <td>1.0</td>\n",
       "      <td>Lewis, Idaho, US</td>\n",
       "      <td>26.055237</td>\n",
       "      <td>0.0</td>\n",
       "      <td>Lewis</td>\n",
       "      <td>Lewis, Idaho</td>\n",
       "    </tr>\n",
       "    <tr>\n",
       "      <th>31440</th>\n",
       "      <td>41069.0</td>\n",
       "      <td>Wheeler</td>\n",
       "      <td>Oregon</td>\n",
       "      <td>US</td>\n",
       "      <td>2020-07-06 19:33:59</td>\n",
       "      <td>44.726982</td>\n",
       "      <td>-120.028143</td>\n",
       "      <td>0</td>\n",
       "      <td>0</td>\n",
       "      <td>0</td>\n",
       "      <td>0.0</td>\n",
       "      <td>Wheeler, Oregon, US</td>\n",
       "      <td>0.000000</td>\n",
       "      <td>NaN</td>\n",
       "      <td>Wheeler</td>\n",
       "      <td>Wheeler, Oregon</td>\n",
       "    </tr>\n",
       "  </tbody>\n",
       "</table>\n",
       "</div>"
      ],
      "text/plain": [
       "          FIPS      Admin2  Province_State Country_Region  \\\n",
       "31436      NaN         NaN         Unknown       Colombia   \n",
       "31437   2070.0  Dillingham          Alaska             US   \n",
       "31438      NaN         NaN  Grand Princess         Canada   \n",
       "31439  16061.0       Lewis           Idaho             US   \n",
       "31440  41069.0     Wheeler          Oregon             US   \n",
       "\n",
       "               Last_Update        Lat       Long_  Confirmed  Deaths  \\\n",
       "31436  2020-07-17 22:34:48        NaN         NaN          0       0   \n",
       "31437  2020-07-17 18:35:12  59.796037 -158.238194          1       0   \n",
       "31438  2020-07-13 12:34:33        NaN         NaN         13       0   \n",
       "31439  2020-07-10 02:34:22  46.233153 -116.434146          1       0   \n",
       "31440  2020-07-06 19:33:59  44.726982 -120.028143          0       0   \n",
       "\n",
       "       Recovered  Active            Combined_Key  Incidence_Rate  \\\n",
       "31436          0     0.0       Unknown, Colombia             NaN   \n",
       "31437          0     1.0  Dillingham, Alaska, US       20.341741   \n",
       "31438         13     0.0  Grand Princess, Canada             NaN   \n",
       "31439          0     1.0        Lewis, Idaho, US       26.055237   \n",
       "31440          0     0.0     Wheeler, Oregon, US        0.000000   \n",
       "\n",
       "       Case-Fatality_Ratio  replace_ps cleaned_province_state  \n",
       "31436                  NaN           1                Unknown  \n",
       "31437                  0.0  Dillingham     Dillingham, Alaska  \n",
       "31438                  0.0           1         Grand Princess  \n",
       "31439                  0.0       Lewis           Lewis, Idaho  \n",
       "31440                  NaN     Wheeler        Wheeler, Oregon  "
      ]
     },
     "execution_count": 19,
     "metadata": {},
     "output_type": "execute_result"
    }
   ],
   "source": [
    "new_df.tail()"
   ]
  },
  {
   "cell_type": "code",
   "execution_count": 20,
   "metadata": {},
   "outputs": [],
   "source": [
    "col_list = ['cleaned_province_state', 'Country_Region', 'Last_Update',\n",
    "            'Confirmed', 'Deaths', 'Recovered', 'cleaned_province_state', 'Lat', 'Long_']"
   ]
  },
  {
   "cell_type": "code",
   "execution_count": 21,
   "metadata": {},
   "outputs": [
    {
     "data": {
      "text/html": [
       "<div>\n",
       "<style scoped>\n",
       "    .dataframe tbody tr th:only-of-type {\n",
       "        vertical-align: middle;\n",
       "    }\n",
       "\n",
       "    .dataframe tbody tr th {\n",
       "        vertical-align: top;\n",
       "    }\n",
       "\n",
       "    .dataframe thead th {\n",
       "        text-align: right;\n",
       "    }\n",
       "</style>\n",
       "<table border=\"1\" class=\"dataframe\">\n",
       "  <thead>\n",
       "    <tr style=\"text-align: right;\">\n",
       "      <th></th>\n",
       "      <th>cleaned_province_state</th>\n",
       "      <th>Country_Region</th>\n",
       "      <th>Last_Update</th>\n",
       "      <th>Confirmed</th>\n",
       "      <th>Deaths</th>\n",
       "      <th>Recovered</th>\n",
       "      <th>cleaned_province_state</th>\n",
       "      <th>Lat</th>\n",
       "      <th>Long_</th>\n",
       "    </tr>\n",
       "  </thead>\n",
       "  <tbody>\n",
       "    <tr>\n",
       "      <th>0</th>\n",
       "      <td>Abbeville, South Carolina</td>\n",
       "      <td>US</td>\n",
       "      <td>2020-07-23 05:15:04</td>\n",
       "      <td>249</td>\n",
       "      <td>2</td>\n",
       "      <td>0</td>\n",
       "      <td>Abbeville, South Carolina</td>\n",
       "      <td>34.223334</td>\n",
       "      <td>-82.461707</td>\n",
       "    </tr>\n",
       "    <tr>\n",
       "      <th>1</th>\n",
       "      <td>Acadia, Louisiana</td>\n",
       "      <td>US</td>\n",
       "      <td>2020-07-23 05:15:04</td>\n",
       "      <td>2011</td>\n",
       "      <td>59</td>\n",
       "      <td>0</td>\n",
       "      <td>Acadia, Louisiana</td>\n",
       "      <td>30.295065</td>\n",
       "      <td>-92.414197</td>\n",
       "    </tr>\n",
       "    <tr>\n",
       "      <th>2</th>\n",
       "      <td>Accomack, Virginia</td>\n",
       "      <td>US</td>\n",
       "      <td>2020-07-23 05:15:04</td>\n",
       "      <td>1057</td>\n",
       "      <td>15</td>\n",
       "      <td>0</td>\n",
       "      <td>Accomack, Virginia</td>\n",
       "      <td>37.767072</td>\n",
       "      <td>-75.632346</td>\n",
       "    </tr>\n",
       "    <tr>\n",
       "      <th>3</th>\n",
       "      <td>Ada, Idaho</td>\n",
       "      <td>US</td>\n",
       "      <td>2020-07-23 05:15:04</td>\n",
       "      <td>6423</td>\n",
       "      <td>40</td>\n",
       "      <td>0</td>\n",
       "      <td>Ada, Idaho</td>\n",
       "      <td>43.452658</td>\n",
       "      <td>-116.241552</td>\n",
       "    </tr>\n",
       "    <tr>\n",
       "      <th>4</th>\n",
       "      <td>Adair, Iowa</td>\n",
       "      <td>US</td>\n",
       "      <td>2020-07-23 05:15:04</td>\n",
       "      <td>21</td>\n",
       "      <td>0</td>\n",
       "      <td>0</td>\n",
       "      <td>Adair, Iowa</td>\n",
       "      <td>41.330756</td>\n",
       "      <td>-94.471059</td>\n",
       "    </tr>\n",
       "  </tbody>\n",
       "</table>\n",
       "</div>"
      ],
      "text/plain": [
       "      cleaned_province_state Country_Region          Last_Update  Confirmed  \\\n",
       "0  Abbeville, South Carolina             US  2020-07-23 05:15:04        249   \n",
       "1          Acadia, Louisiana             US  2020-07-23 05:15:04       2011   \n",
       "2         Accomack, Virginia             US  2020-07-23 05:15:04       1057   \n",
       "3                 Ada, Idaho             US  2020-07-23 05:15:04       6423   \n",
       "4                Adair, Iowa             US  2020-07-23 05:15:04         21   \n",
       "\n",
       "   Deaths  Recovered     cleaned_province_state        Lat       Long_  \n",
       "0       2          0  Abbeville, South Carolina  34.223334  -82.461707  \n",
       "1      59          0          Acadia, Louisiana  30.295065  -92.414197  \n",
       "2      15          0         Accomack, Virginia  37.767072  -75.632346  \n",
       "3      40          0                 Ada, Idaho  43.452658 -116.241552  \n",
       "4       0          0                Adair, Iowa  41.330756  -94.471059  "
      ]
     },
     "execution_count": 21,
     "metadata": {},
     "output_type": "execute_result"
    }
   ],
   "source": [
    "new_df[col_list].head()"
   ]
  },
  {
   "cell_type": "code",
   "execution_count": 22,
   "metadata": {},
   "outputs": [],
   "source": [
    "cleaned_df = new_df[col_list]"
   ]
  },
  {
   "cell_type": "code",
   "execution_count": 23,
   "metadata": {},
   "outputs": [],
   "source": [
    "cleaned_df = cleaned_df.rename(columns={'cleaned_province_state': 'Province_State',\n",
    "                           'Country_Region': 'Country',\n",
    "                           'Last_Update': 'Last_Update',\n",
    "                           'Confirmed': 'Confirmed',\n",
    "                           'Deaths': 'Deaths',\n",
    "                           'Recovered': 'Recovered',\n",
    "                           'cleaned_province_state': 'Province_State',\n",
    "                           'Lat': 'Lat',\n",
    "                           'Long_': 'Lon'\n",
    "                          })"
   ]
  },
  {
   "cell_type": "code",
   "execution_count": 24,
   "metadata": {},
   "outputs": [
    {
     "data": {
      "text/html": [
       "<div>\n",
       "<style scoped>\n",
       "    .dataframe tbody tr th:only-of-type {\n",
       "        vertical-align: middle;\n",
       "    }\n",
       "\n",
       "    .dataframe tbody tr th {\n",
       "        vertical-align: top;\n",
       "    }\n",
       "\n",
       "    .dataframe thead th {\n",
       "        text-align: right;\n",
       "    }\n",
       "</style>\n",
       "<table border=\"1\" class=\"dataframe\">\n",
       "  <thead>\n",
       "    <tr style=\"text-align: right;\">\n",
       "      <th></th>\n",
       "      <th>Province_State</th>\n",
       "      <th>Country</th>\n",
       "      <th>Last_Update</th>\n",
       "      <th>Confirmed</th>\n",
       "      <th>Deaths</th>\n",
       "      <th>Recovered</th>\n",
       "      <th>Province_State</th>\n",
       "      <th>Lat</th>\n",
       "      <th>Lon</th>\n",
       "    </tr>\n",
       "  </thead>\n",
       "  <tbody>\n",
       "    <tr>\n",
       "      <th>0</th>\n",
       "      <td>Abbeville, South Carolina</td>\n",
       "      <td>US</td>\n",
       "      <td>2020-07-23 05:15:04</td>\n",
       "      <td>249</td>\n",
       "      <td>2</td>\n",
       "      <td>0</td>\n",
       "      <td>Abbeville, South Carolina</td>\n",
       "      <td>34.223334</td>\n",
       "      <td>-82.461707</td>\n",
       "    </tr>\n",
       "    <tr>\n",
       "      <th>1</th>\n",
       "      <td>Acadia, Louisiana</td>\n",
       "      <td>US</td>\n",
       "      <td>2020-07-23 05:15:04</td>\n",
       "      <td>2011</td>\n",
       "      <td>59</td>\n",
       "      <td>0</td>\n",
       "      <td>Acadia, Louisiana</td>\n",
       "      <td>30.295065</td>\n",
       "      <td>-92.414197</td>\n",
       "    </tr>\n",
       "    <tr>\n",
       "      <th>2</th>\n",
       "      <td>Accomack, Virginia</td>\n",
       "      <td>US</td>\n",
       "      <td>2020-07-23 05:15:04</td>\n",
       "      <td>1057</td>\n",
       "      <td>15</td>\n",
       "      <td>0</td>\n",
       "      <td>Accomack, Virginia</td>\n",
       "      <td>37.767072</td>\n",
       "      <td>-75.632346</td>\n",
       "    </tr>\n",
       "    <tr>\n",
       "      <th>3</th>\n",
       "      <td>Ada, Idaho</td>\n",
       "      <td>US</td>\n",
       "      <td>2020-07-23 05:15:04</td>\n",
       "      <td>6423</td>\n",
       "      <td>40</td>\n",
       "      <td>0</td>\n",
       "      <td>Ada, Idaho</td>\n",
       "      <td>43.452658</td>\n",
       "      <td>-116.241552</td>\n",
       "    </tr>\n",
       "    <tr>\n",
       "      <th>4</th>\n",
       "      <td>Adair, Iowa</td>\n",
       "      <td>US</td>\n",
       "      <td>2020-07-23 05:15:04</td>\n",
       "      <td>21</td>\n",
       "      <td>0</td>\n",
       "      <td>0</td>\n",
       "      <td>Adair, Iowa</td>\n",
       "      <td>41.330756</td>\n",
       "      <td>-94.471059</td>\n",
       "    </tr>\n",
       "  </tbody>\n",
       "</table>\n",
       "</div>"
      ],
      "text/plain": [
       "              Province_State Country          Last_Update  Confirmed  Deaths  \\\n",
       "0  Abbeville, South Carolina      US  2020-07-23 05:15:04        249       2   \n",
       "1          Acadia, Louisiana      US  2020-07-23 05:15:04       2011      59   \n",
       "2         Accomack, Virginia      US  2020-07-23 05:15:04       1057      15   \n",
       "3                 Ada, Idaho      US  2020-07-23 05:15:04       6423      40   \n",
       "4                Adair, Iowa      US  2020-07-23 05:15:04         21       0   \n",
       "\n",
       "   Recovered             Province_State        Lat         Lon  \n",
       "0          0  Abbeville, South Carolina  34.223334  -82.461707  \n",
       "1          0          Acadia, Louisiana  30.295065  -92.414197  \n",
       "2          0         Accomack, Virginia  37.767072  -75.632346  \n",
       "3          0                 Ada, Idaho  43.452658 -116.241552  \n",
       "4          0                Adair, Iowa  41.330756  -94.471059  "
      ]
     },
     "execution_count": 24,
     "metadata": {},
     "output_type": "execute_result"
    }
   ],
   "source": [
    "cleaned_df.head()"
   ]
  },
  {
   "cell_type": "code",
   "execution_count": 25,
   "metadata": {},
   "outputs": [
    {
     "data": {
      "text/plain": [
       "Province_State     object\n",
       "Country            object\n",
       "Last_Update        object\n",
       "Confirmed           int64\n",
       "Deaths              int64\n",
       "Recovered           int64\n",
       "Province_State     object\n",
       "Lat               float64\n",
       "Lon               float64\n",
       "dtype: object"
      ]
     },
     "execution_count": 25,
     "metadata": {},
     "output_type": "execute_result"
    }
   ],
   "source": [
    "cleaned_df.dtypes"
   ]
  },
  {
   "cell_type": "code",
   "execution_count": 26,
   "metadata": {},
   "outputs": [],
   "source": [
    "cleaned_df['Last_Update'] = pd.to_datetime(cleaned_df['Last_Update']).dt.date"
   ]
  },
  {
   "cell_type": "code",
   "execution_count": 27,
   "metadata": {},
   "outputs": [
    {
     "data": {
      "text/html": [
       "<div>\n",
       "<style scoped>\n",
       "    .dataframe tbody tr th:only-of-type {\n",
       "        vertical-align: middle;\n",
       "    }\n",
       "\n",
       "    .dataframe tbody tr th {\n",
       "        vertical-align: top;\n",
       "    }\n",
       "\n",
       "    .dataframe thead th {\n",
       "        text-align: right;\n",
       "    }\n",
       "</style>\n",
       "<table border=\"1\" class=\"dataframe\">\n",
       "  <thead>\n",
       "    <tr style=\"text-align: right;\">\n",
       "      <th></th>\n",
       "      <th>Province_State</th>\n",
       "      <th>Country</th>\n",
       "      <th>Last_Update</th>\n",
       "      <th>Confirmed</th>\n",
       "      <th>Deaths</th>\n",
       "      <th>Recovered</th>\n",
       "      <th>Province_State</th>\n",
       "      <th>Lat</th>\n",
       "      <th>Lon</th>\n",
       "    </tr>\n",
       "  </thead>\n",
       "  <tbody>\n",
       "    <tr>\n",
       "      <th>31436</th>\n",
       "      <td>Unknown</td>\n",
       "      <td>Colombia</td>\n",
       "      <td>2020-07-17</td>\n",
       "      <td>0</td>\n",
       "      <td>0</td>\n",
       "      <td>0</td>\n",
       "      <td>Unknown</td>\n",
       "      <td>NaN</td>\n",
       "      <td>NaN</td>\n",
       "    </tr>\n",
       "    <tr>\n",
       "      <th>31437</th>\n",
       "      <td>Dillingham, Alaska</td>\n",
       "      <td>US</td>\n",
       "      <td>2020-07-17</td>\n",
       "      <td>1</td>\n",
       "      <td>0</td>\n",
       "      <td>0</td>\n",
       "      <td>Dillingham, Alaska</td>\n",
       "      <td>59.796037</td>\n",
       "      <td>-158.238194</td>\n",
       "    </tr>\n",
       "    <tr>\n",
       "      <th>31438</th>\n",
       "      <td>Grand Princess</td>\n",
       "      <td>Canada</td>\n",
       "      <td>2020-07-13</td>\n",
       "      <td>13</td>\n",
       "      <td>0</td>\n",
       "      <td>13</td>\n",
       "      <td>Grand Princess</td>\n",
       "      <td>NaN</td>\n",
       "      <td>NaN</td>\n",
       "    </tr>\n",
       "    <tr>\n",
       "      <th>31439</th>\n",
       "      <td>Lewis, Idaho</td>\n",
       "      <td>US</td>\n",
       "      <td>2020-07-10</td>\n",
       "      <td>1</td>\n",
       "      <td>0</td>\n",
       "      <td>0</td>\n",
       "      <td>Lewis, Idaho</td>\n",
       "      <td>46.233153</td>\n",
       "      <td>-116.434146</td>\n",
       "    </tr>\n",
       "    <tr>\n",
       "      <th>31440</th>\n",
       "      <td>Wheeler, Oregon</td>\n",
       "      <td>US</td>\n",
       "      <td>2020-07-06</td>\n",
       "      <td>0</td>\n",
       "      <td>0</td>\n",
       "      <td>0</td>\n",
       "      <td>Wheeler, Oregon</td>\n",
       "      <td>44.726982</td>\n",
       "      <td>-120.028143</td>\n",
       "    </tr>\n",
       "  </tbody>\n",
       "</table>\n",
       "</div>"
      ],
      "text/plain": [
       "           Province_State   Country Last_Update  Confirmed  Deaths  Recovered  \\\n",
       "31436             Unknown  Colombia  2020-07-17          0       0          0   \n",
       "31437  Dillingham, Alaska        US  2020-07-17          1       0          0   \n",
       "31438      Grand Princess    Canada  2020-07-13         13       0         13   \n",
       "31439        Lewis, Idaho        US  2020-07-10          1       0          0   \n",
       "31440     Wheeler, Oregon        US  2020-07-06          0       0          0   \n",
       "\n",
       "           Province_State        Lat         Lon  \n",
       "31436             Unknown        NaN         NaN  \n",
       "31437  Dillingham, Alaska  59.796037 -158.238194  \n",
       "31438      Grand Princess        NaN         NaN  \n",
       "31439        Lewis, Idaho  46.233153 -116.434146  \n",
       "31440     Wheeler, Oregon  44.726982 -120.028143  "
      ]
     },
     "execution_count": 27,
     "metadata": {},
     "output_type": "execute_result"
    }
   ],
   "source": [
    "cleaned_df.tail()"
   ]
  },
  {
   "cell_type": "code",
   "execution_count": 28,
   "metadata": {},
   "outputs": [],
   "source": [
    "main_folder_path = os.chdir('..')"
   ]
  },
  {
   "cell_type": "code",
   "execution_count": 29,
   "metadata": {},
   "outputs": [],
   "source": [
    "main_folder_path"
   ]
  },
  {
   "cell_type": "code",
   "execution_count": 30,
   "metadata": {},
   "outputs": [
    {
     "data": {
      "text/plain": [
       "'C:\\\\Users\\\\David Ly\\\\Documents\\\\Programming\\\\COVID19'"
      ]
     },
     "execution_count": 30,
     "metadata": {},
     "output_type": "execute_result"
    }
   ],
   "source": [
    "os.getcwd()"
   ]
  },
  {
   "cell_type": "code",
   "execution_count": 31,
   "metadata": {},
   "outputs": [
    {
     "data": {
      "text/plain": [
       "'C:\\\\Users\\\\David Ly\\\\Documents\\\\Programming\\\\COVID19'"
      ]
     },
     "execution_count": 31,
     "metadata": {},
     "output_type": "execute_result"
    }
   ],
   "source": [
    "os.path.abspath('')"
   ]
  },
  {
   "cell_type": "code",
   "execution_count": 32,
   "metadata": {},
   "outputs": [],
   "source": [
    "# os.chdir('..')"
   ]
  },
  {
   "cell_type": "code",
   "execution_count": 33,
   "metadata": {},
   "outputs": [],
   "source": [
    "cleaned_df.to_csv('cleaned_data.csv', index=False)"
   ]
  },
  {
   "cell_type": "code",
   "execution_count": 34,
   "metadata": {},
   "outputs": [
    {
     "data": {
      "text/plain": [
       "['.git',\n",
       " '.gitignore',\n",
       " '.ipynb_checkpoints',\n",
       " '01-merge-and-clean.ipynb',\n",
       " '2 - Get country coordinates.xlsx',\n",
       " '2019-nCoV Global Cases (COVID-19 Wuhan).twbx',\n",
       " '2019_nCoV_data.xlsx',\n",
       " '3 - Run Alteryx.xlsx',\n",
       " '4 - Alteryx Coordinates.xlsx',\n",
       " 'Alteryx Strain Coordinates.xlsx',\n",
       " 'AnatomyPoints.xlsx',\n",
       " 'Archive',\n",
       " 'cleaned_data.csv',\n",
       " 'Coordinates.xlsx',\n",
       " 'CountryComparison.xlsx',\n",
       " 'genome_metadata.xlsx',\n",
       " 'google_trends.xlsx',\n",
       " 'Images',\n",
       " 'Merge',\n",
       " 'README.md',\n",
       " 'Run Alteryx Strain Data.xlsx',\n",
       " 'VirusComparison.xlsx']"
      ]
     },
     "execution_count": 34,
     "metadata": {},
     "output_type": "execute_result"
    }
   ],
   "source": [
    "os.listdir()"
   ]
  }
 ],
 "metadata": {
  "kernelspec": {
   "display_name": "Python 3",
   "language": "python",
   "name": "python3"
  },
  "language_info": {
   "codemirror_mode": {
    "name": "ipython",
    "version": 3
   },
   "file_extension": ".py",
   "mimetype": "text/x-python",
   "name": "python",
   "nbconvert_exporter": "python",
   "pygments_lexer": "ipython3",
   "version": "3.7.3"
  }
 },
 "nbformat": 4,
 "nbformat_minor": 2
}
