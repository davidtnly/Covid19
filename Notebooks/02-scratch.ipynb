{
 "cells": [
  {
   "cell_type": "code",
   "execution_count": 1,
   "metadata": {},
   "outputs": [],
   "source": [
    "import os\n",
    "import shutil\n",
    "import time\n",
    "import pandas as pd"
   ]
  },
  {
   "cell_type": "code",
   "execution_count": 2,
   "metadata": {},
   "outputs": [],
   "source": [
    "login_name = os.getlogin()"
   ]
  },
  {
   "cell_type": "code",
   "execution_count": 6,
   "metadata": {},
   "outputs": [],
   "source": [
    "now = time.ctime(time.time())"
   ]
  },
  {
   "cell_type": "code",
   "execution_count": null,
   "metadata": {},
   "outputs": [],
   "source": [
    "# Move to directory with csv files to merge\n",
    "os.chdir(\"Merge\")"
   ]
  },
  {
   "cell_type": "code",
   "execution_count": null,
   "metadata": {},
   "outputs": [],
   "source": [
    "# Current directory\n",
    "merge_folder = os.getcwd()\n",
    "merge_files = os.listdir(merge_folder)\n",
    "merge_folder"
   ]
  },
  {
   "cell_type": "code",
   "execution_count": 37,
   "metadata": {},
   "outputs": [
    {
     "data": {
      "text/plain": [
       "'C:\\\\Users\\\\David Ly\\\\Documents\\\\Programming\\\\COVID19\\\\Merge'"
      ]
     },
     "execution_count": 37,
     "metadata": {},
     "output_type": "execute_result"
    }
   ],
   "source": [
    "merge_folder"
   ]
  },
  {
   "cell_type": "code",
   "execution_count": 8,
   "metadata": {},
   "outputs": [],
   "source": [
    "new_files_path = 'C:\\\\Users\\\\' + login_name + '\\\\Documents\\\\Programming\\\\COVID-19\\\\csse_covid_19_data\\\\csse_covid_19_daily_reports\\\\'"
   ]
  },
  {
   "cell_type": "code",
   "execution_count": 9,
   "metadata": {},
   "outputs": [
    {
     "data": {
      "text/plain": [
       "'C:\\\\Users\\\\David Ly\\\\Documents\\\\Programming\\\\COVID-19\\\\csse_covid_19_data\\\\csse_covid_19_daily_reports\\\\'"
      ]
     },
     "execution_count": 9,
     "metadata": {},
     "output_type": "execute_result"
    }
   ],
   "source": [
    "new_files_path"
   ]
  },
  {
   "cell_type": "code",
   "execution_count": 10,
   "metadata": {},
   "outputs": [],
   "source": [
    "files = [os.path.join(merge_folder, filename) for filename in merge_files]"
   ]
  },
  {
   "cell_type": "code",
   "execution_count": 13,
   "metadata": {},
   "outputs": [
    {
     "name": "stdout",
     "output_type": "stream",
     "text": [
      "1596128039.5620227\n",
      "1596128039.566012\n",
      "1596128039.5690036\n"
     ]
    }
   ],
   "source": [
    "file_dates = []\n",
    "\n",
    "for filename in files:\n",
    "    print((os.path.getmtime(filename)))\n",
    "    file_dates.append((os.path.getmtime(filename)))"
   ]
  },
  {
   "cell_type": "code",
   "execution_count": 14,
   "metadata": {},
   "outputs": [],
   "source": [
    "old_file_date = max(file_dates)"
   ]
  },
  {
   "cell_type": "code",
   "execution_count": 15,
   "metadata": {},
   "outputs": [
    {
     "data": {
      "text/plain": [
       "1596128039.5690036"
      ]
     },
     "execution_count": 15,
     "metadata": {},
     "output_type": "execute_result"
    }
   ],
   "source": [
    "old_file_date"
   ]
  },
  {
   "cell_type": "code",
   "execution_count": 27,
   "metadata": {},
   "outputs": [
    {
     "name": "stdout",
     "output_type": "stream",
     "text": [
      "Not new. Proceeding to remove.\n",
      "Not new. Proceeding to remove.\n",
      "Not new. Proceeding to remove.\n"
     ]
    }
   ],
   "source": [
    "os.chdir(merge_folder)\n",
    "os.listdir()\n",
    "\n",
    "for filename in files:\n",
    "#     print(\"Last modified: %s\" % time.ctime(os.path.getmtime(filename)))\n",
    "#     print(old_time)\n",
    "    if (os.path.getmtime(filename)) > old_file_date:\n",
    "        print('New file found: ', filename)\n",
    "    else:\n",
    "        print('Not new. Proceeding to remove.')\n",
    "        os.remove(filename)"
   ]
  },
  {
   "cell_type": "code",
   "execution_count": 48,
   "metadata": {},
   "outputs": [
    {
     "name": "stdout",
     "output_type": "stream",
     "text": [
      "Found new file updated on Fri Jul 31 10:06:45 2020 : \n",
      " C:\\Users\\David Ly\\Documents\\Programming\\COVID-19\\csse_covid_19_data\\csse_covid_19_daily_reports\\07-30-2020.csv\n",
      "Adding file to merge folder...\n"
     ]
    }
   ],
   "source": [
    "os.chdir(new_files_path)\n",
    "covid_folder = os.getcwd()\n",
    "covid_folder_files = os.listdir(covid_folder)\n",
    "\n",
    "\n",
    "covid_files = [os.path.join(covid_folder, filename) for filename in covid_folder_files]\n",
    "\n",
    "for filename in covid_files:\n",
    "    if (os.path.getmtime(filename)) > old_file_date and filename.endswith('.csv'):\n",
    "        print('Found new file updated on', time.ctime(os.path.getmtime(filename)), ': \\n', filename)\n",
    "        print('Adding file to merge folder...')\n",
    "        shutil.copyfile(filename, os.path.join(merge_folder, os.path.basename(filename)))"
   ]
  },
  {
   "cell_type": "code",
   "execution_count": null,
   "metadata": {},
   "outputs": [],
   "source": []
  }
 ],
 "metadata": {
  "kernelspec": {
   "display_name": "Python 3.7(NLP)",
   "language": "python",
   "name": "nlp"
  },
  "language_info": {
   "codemirror_mode": {
    "name": "ipython",
    "version": 3
   },
   "file_extension": ".py",
   "mimetype": "text/x-python",
   "name": "python",
   "nbconvert_exporter": "python",
   "pygments_lexer": "ipython3",
   "version": "3.7.7"
  }
 },
 "nbformat": 4,
 "nbformat_minor": 4
}
