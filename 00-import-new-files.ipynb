{
 "cells": [
  {
   "cell_type": "code",
   "execution_count": null,
   "metadata": {},
   "outputs": [],
   "source": [
    "import os\n",
    "import shutil\n",
    "import time\n",
    "\n",
    "login_name = os.getlogin()\n",
    "now = time.ctime(time.time())\n",
    "\n",
    "# Move to directory with csv files to merge\n",
    "os.chdir(\"Merge\")\n",
    "\n",
    "# Directories\n",
    "merge_path = os.getcwd()\n",
    "new_files_path = 'C:\\\\Users\\\\' + login_name + '\\\\Documents\\\\Programming\\\\COVID-19\\\\csse_covid_19_data\\\\csse_covid_19_daily_reports\\\\'\n",
    "\n",
    "# Files\n",
    "merge_files = os.listdir(merge_path)\n",
    "files = [os.path.join(merge_path, filename) for filename in merge_files]\n",
    "\n",
    "# Get max file date\n",
    "file_dates = []\n",
    "\n",
    "for filename in files:\n",
    "    print((os.path.getmtime(filename)))\n",
    "    file_dates.append((os.path.getmtime(filename)))\n",
    "\n",
    "old_file_date = max(file_dates)\n",
    "\n",
    "\n",
    "# Remove old files\n",
    "os.chdir(merge_path)\n",
    "os.listdir()\n",
    "\n",
    "for filename in files:\n",
    "#     print(\"Last modified: %s\" % time.ctime(os.path.getmtime(filename)))\n",
    "    if (os.path.getmtime(filename)) > old_file_date:\n",
    "        print('New file found: ', filename)\n",
    "    else:\n",
    "        print('Not new. Proceeding to remove.')\n",
    "        os.remove(filename)\n",
    "\n",
    "# Add new files\n",
    "os.chdir(new_files_path)\n",
    "covid_folder = os.getcwd()\n",
    "covid_folder_files = os.listdir(covid_folder)\n",
    "covid_files = [os.path.join(covid_folder, filename) for filename in covid_folder_files]\n",
    "\n",
    "for filename in covid_files:\n",
    "    if (os.path.getmtime(filename)) > old_file_date and filename.endswith('.csv'):\n",
    "        print('Found new file updated on', time.ctime(os.path.getmtime(filename)), ': \\n', filename)\n",
    "        print('Adding file to merge folder...')\n",
    "        shutil.copyfile(filename, os.path.join(merge_path, os.path.basename(filename)))"
   ]
  }
 ],
 "metadata": {
  "kernelspec": {
   "display_name": "Python 3",
   "language": "python",
   "name": "python3"
  },
  "language_info": {
   "codemirror_mode": {
    "name": "ipython",
    "version": 3
   },
   "file_extension": ".py",
   "mimetype": "text/x-python",
   "name": "python",
   "nbconvert_exporter": "python",
   "pygments_lexer": "ipython3",
   "version": "3.7.3"
  }
 },
 "nbformat": 4,
 "nbformat_minor": 4
}
