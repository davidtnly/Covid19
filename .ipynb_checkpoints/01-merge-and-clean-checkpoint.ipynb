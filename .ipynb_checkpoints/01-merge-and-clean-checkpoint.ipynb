{
 "cells": [
  {
   "cell_type": "code",
   "execution_count": 1,
   "metadata": {},
   "outputs": [],
   "source": [
    "import os\n",
    "import pandas as pd"
   ]
  },
  {
   "cell_type": "code",
   "execution_count": 2,
   "metadata": {},
   "outputs": [
    {
     "data": {
      "text/plain": [
       "'C:\\\\Users\\\\David Ly\\\\Documents\\\\Programming\\\\COVID19\\\\Merge'"
      ]
     },
     "execution_count": 2,
     "metadata": {},
     "output_type": "execute_result"
    }
   ],
   "source": [
    "os.path.abspath('Merge\\\\')"
   ]
  },
  {
   "cell_type": "code",
   "execution_count": 3,
   "metadata": {},
   "outputs": [],
   "source": [
    "merge_dir = os.path.abspath('Merge\\\\')"
   ]
  },
  {
   "cell_type": "code",
   "execution_count": 4,
   "metadata": {},
   "outputs": [],
   "source": [
    "merge_files = os.listdir(merge_dir)"
   ]
  },
  {
   "cell_type": "code",
   "execution_count": 5,
   "metadata": {},
   "outputs": [
    {
     "data": {
      "text/plain": [
       "'C:\\\\Users\\\\David Ly\\\\Documents\\\\Programming\\\\COVID19'"
      ]
     },
     "execution_count": 5,
     "metadata": {},
     "output_type": "execute_result"
    }
   ],
   "source": [
    "os.getcwd()"
   ]
  },
  {
   "cell_type": "code",
   "execution_count": 6,
   "metadata": {},
   "outputs": [
    {
     "data": {
      "text/plain": [
       "['.git',\n",
       " '.ipynb_checkpoints',\n",
       " '01-cleaning.ipynb',\n",
       " '2 - Get country coordinates.xlsx',\n",
       " '2019-nCoV Global Cases (COVID-19 Wuhan).twbx',\n",
       " '2019_nCoV_data.xlsx',\n",
       " '3 - Run Alteryx.xlsx',\n",
       " '4 - Alteryx Coordinates.xlsx',\n",
       " 'Alteryx Strain Coordinates.xlsx',\n",
       " 'AnatomyPoints.xlsx',\n",
       " 'Archive',\n",
       " 'B963AA10',\n",
       " 'cleaned_data.csv',\n",
       " 'Coordinates.xlsx',\n",
       " 'CountryComparison.xlsx',\n",
       " 'genome_metadata.xlsx',\n",
       " 'Images',\n",
       " 'Merge',\n",
       " 'README.md',\n",
       " 'Run Alteryx Strain Data.xlsx',\n",
       " 'VirusComparison.xlsx',\n",
       " '~2019-nCoV Global Cases (COVID-19 Wuhan)__22300.twbr']"
      ]
     },
     "execution_count": 6,
     "metadata": {},
     "output_type": "execute_result"
    }
   ],
   "source": [
    "os.listdir()"
   ]
  },
  {
   "cell_type": "code",
   "execution_count": 7,
   "metadata": {},
   "outputs": [],
   "source": [
    "os.chdir('Merge')"
   ]
  },
  {
   "cell_type": "code",
   "execution_count": 8,
   "metadata": {},
   "outputs": [
    {
     "name": "stderr",
     "output_type": "stream",
     "text": [
      "C:\\Users\\David Ly\\Anaconda3\\lib\\site-packages\\pandas\\core\\frame.py:6692: FutureWarning: Sorting because non-concatenation axis is not aligned. A future version\n",
      "of pandas will change to not sort by default.\n",
      "\n",
      "To accept the future behavior, pass 'sort=False'.\n",
      "\n",
      "To retain the current behavior and silence the warning, pass 'sort=True'.\n",
      "\n",
      "  sort=sort)\n"
     ]
    },
    {
     "data": {
      "text/html": [
       "<div>\n",
       "<style scoped>\n",
       "    .dataframe tbody tr th:only-of-type {\n",
       "        vertical-align: middle;\n",
       "    }\n",
       "\n",
       "    .dataframe tbody tr th {\n",
       "        vertical-align: top;\n",
       "    }\n",
       "\n",
       "    .dataframe thead th {\n",
       "        text-align: right;\n",
       "    }\n",
       "</style>\n",
       "<table border=\"1\" class=\"dataframe\">\n",
       "  <thead>\n",
       "    <tr style=\"text-align: right;\">\n",
       "      <th></th>\n",
       "      <th>Active</th>\n",
       "      <th>Admin2</th>\n",
       "      <th>Case-Fatality_Ratio</th>\n",
       "      <th>Combined_Key</th>\n",
       "      <th>Confirmed</th>\n",
       "      <th>Country_Region</th>\n",
       "      <th>Deaths</th>\n",
       "      <th>FIPS</th>\n",
       "      <th>Incidence_Rate</th>\n",
       "      <th>Last_Update</th>\n",
       "      <th>Lat</th>\n",
       "      <th>Long_</th>\n",
       "      <th>Province_State</th>\n",
       "      <th>Recovered</th>\n",
       "    </tr>\n",
       "  </thead>\n",
       "  <tbody>\n",
       "    <tr>\n",
       "      <th>0</th>\n",
       "      <td>0.0</td>\n",
       "      <td>Abbeville</td>\n",
       "      <td>NaN</td>\n",
       "      <td>Abbeville, South Carolina, US</td>\n",
       "      <td>9</td>\n",
       "      <td>US</td>\n",
       "      <td>0</td>\n",
       "      <td>45001.0</td>\n",
       "      <td>NaN</td>\n",
       "      <td>2020-04-11 22:45:33</td>\n",
       "      <td>34.223334</td>\n",
       "      <td>-82.461707</td>\n",
       "      <td>South Carolina</td>\n",
       "      <td>0</td>\n",
       "    </tr>\n",
       "    <tr>\n",
       "      <th>1</th>\n",
       "      <td>0.0</td>\n",
       "      <td>Acadia</td>\n",
       "      <td>NaN</td>\n",
       "      <td>Acadia, Louisiana, US</td>\n",
       "      <td>98</td>\n",
       "      <td>US</td>\n",
       "      <td>4</td>\n",
       "      <td>22001.0</td>\n",
       "      <td>NaN</td>\n",
       "      <td>2020-04-11 22:45:33</td>\n",
       "      <td>30.295065</td>\n",
       "      <td>-92.414197</td>\n",
       "      <td>Louisiana</td>\n",
       "      <td>0</td>\n",
       "    </tr>\n",
       "    <tr>\n",
       "      <th>2</th>\n",
       "      <td>0.0</td>\n",
       "      <td>Accomack</td>\n",
       "      <td>NaN</td>\n",
       "      <td>Accomack, Virginia, US</td>\n",
       "      <td>15</td>\n",
       "      <td>US</td>\n",
       "      <td>0</td>\n",
       "      <td>51001.0</td>\n",
       "      <td>NaN</td>\n",
       "      <td>2020-04-11 22:45:33</td>\n",
       "      <td>37.767072</td>\n",
       "      <td>-75.632346</td>\n",
       "      <td>Virginia</td>\n",
       "      <td>0</td>\n",
       "    </tr>\n",
       "    <tr>\n",
       "      <th>3</th>\n",
       "      <td>0.0</td>\n",
       "      <td>Ada</td>\n",
       "      <td>NaN</td>\n",
       "      <td>Ada, Idaho, US</td>\n",
       "      <td>513</td>\n",
       "      <td>US</td>\n",
       "      <td>6</td>\n",
       "      <td>16001.0</td>\n",
       "      <td>NaN</td>\n",
       "      <td>2020-04-11 22:45:33</td>\n",
       "      <td>43.452658</td>\n",
       "      <td>-116.241552</td>\n",
       "      <td>Idaho</td>\n",
       "      <td>0</td>\n",
       "    </tr>\n",
       "    <tr>\n",
       "      <th>4</th>\n",
       "      <td>0.0</td>\n",
       "      <td>Adair</td>\n",
       "      <td>NaN</td>\n",
       "      <td>Adair, Iowa, US</td>\n",
       "      <td>1</td>\n",
       "      <td>US</td>\n",
       "      <td>0</td>\n",
       "      <td>19001.0</td>\n",
       "      <td>NaN</td>\n",
       "      <td>2020-04-11 22:45:33</td>\n",
       "      <td>41.330756</td>\n",
       "      <td>-94.471059</td>\n",
       "      <td>Iowa</td>\n",
       "      <td>0</td>\n",
       "    </tr>\n",
       "  </tbody>\n",
       "</table>\n",
       "</div>"
      ],
      "text/plain": [
       "   Active     Admin2  Case-Fatality_Ratio                   Combined_Key  \\\n",
       "0     0.0  Abbeville                  NaN  Abbeville, South Carolina, US   \n",
       "1     0.0     Acadia                  NaN          Acadia, Louisiana, US   \n",
       "2     0.0   Accomack                  NaN         Accomack, Virginia, US   \n",
       "3     0.0        Ada                  NaN                 Ada, Idaho, US   \n",
       "4     0.0      Adair                  NaN                Adair, Iowa, US   \n",
       "\n",
       "   Confirmed Country_Region  Deaths     FIPS  Incidence_Rate  \\\n",
       "0          9             US       0  45001.0             NaN   \n",
       "1         98             US       4  22001.0             NaN   \n",
       "2         15             US       0  51001.0             NaN   \n",
       "3        513             US       6  16001.0             NaN   \n",
       "4          1             US       0  19001.0             NaN   \n",
       "\n",
       "           Last_Update        Lat       Long_  Province_State  Recovered  \n",
       "0  2020-04-11 22:45:33  34.223334  -82.461707  South Carolina          0  \n",
       "1  2020-04-11 22:45:33  30.295065  -92.414197       Louisiana          0  \n",
       "2  2020-04-11 22:45:33  37.767072  -75.632346        Virginia          0  \n",
       "3  2020-04-11 22:45:33  43.452658 -116.241552           Idaho          0  \n",
       "4  2020-04-11 22:45:33  41.330756  -94.471059            Iowa          0  "
      ]
     },
     "execution_count": 8,
     "metadata": {},
     "output_type": "execute_result"
    }
   ],
   "source": [
    "df = pd.DataFrame()\n",
    "for file in merge_files:\n",
    "    if file.endswith('.csv'):\n",
    "        df = df.append(pd.read_csv(file), ignore_index=True)\n",
    "df.head()"
   ]
  },
  {
   "cell_type": "code",
   "execution_count": 9,
   "metadata": {},
   "outputs": [
    {
     "data": {
      "text/plain": [
       "333550"
      ]
     },
     "execution_count": 9,
     "metadata": {},
     "output_type": "execute_result"
    }
   ],
   "source": [
    "len(df)"
   ]
  },
  {
   "cell_type": "code",
   "execution_count": 10,
   "metadata": {},
   "outputs": [
    {
     "data": {
      "text/plain": [
       "(333550, 14)"
      ]
     },
     "execution_count": 10,
     "metadata": {},
     "output_type": "execute_result"
    }
   ],
   "source": [
    "df.shape"
   ]
  },
  {
   "cell_type": "code",
   "execution_count": 11,
   "metadata": {},
   "outputs": [],
   "source": [
    "new_df = df"
   ]
  },
  {
   "cell_type": "code",
   "execution_count": 12,
   "metadata": {},
   "outputs": [],
   "source": [
    "new_df['replace_ps'] = new_df['Admin2'].fillna('1')"
   ]
  },
  {
   "cell_type": "code",
   "execution_count": 13,
   "metadata": {},
   "outputs": [
    {
     "data": {
      "text/html": [
       "<div>\n",
       "<style scoped>\n",
       "    .dataframe tbody tr th:only-of-type {\n",
       "        vertical-align: middle;\n",
       "    }\n",
       "\n",
       "    .dataframe tbody tr th {\n",
       "        vertical-align: top;\n",
       "    }\n",
       "\n",
       "    .dataframe thead th {\n",
       "        text-align: right;\n",
       "    }\n",
       "</style>\n",
       "<table border=\"1\" class=\"dataframe\">\n",
       "  <thead>\n",
       "    <tr style=\"text-align: right;\">\n",
       "      <th></th>\n",
       "      <th>Active</th>\n",
       "      <th>Admin2</th>\n",
       "      <th>Case-Fatality_Ratio</th>\n",
       "      <th>Combined_Key</th>\n",
       "      <th>Confirmed</th>\n",
       "      <th>Country_Region</th>\n",
       "      <th>Deaths</th>\n",
       "      <th>FIPS</th>\n",
       "      <th>Incidence_Rate</th>\n",
       "      <th>Last_Update</th>\n",
       "      <th>Lat</th>\n",
       "      <th>Long_</th>\n",
       "      <th>Province_State</th>\n",
       "      <th>Recovered</th>\n",
       "      <th>replace_ps</th>\n",
       "    </tr>\n",
       "  </thead>\n",
       "  <tbody>\n",
       "    <tr>\n",
       "      <th>333545</th>\n",
       "      <td>441.0</td>\n",
       "      <td>NaN</td>\n",
       "      <td>2.216359</td>\n",
       "      <td>Zambia</td>\n",
       "      <td>1895</td>\n",
       "      <td>Zambia</td>\n",
       "      <td>42</td>\n",
       "      <td>NaN</td>\n",
       "      <td>10.307901</td>\n",
       "      <td>2020-07-16 04:44:59</td>\n",
       "      <td>-13.133897</td>\n",
       "      <td>27.849332</td>\n",
       "      <td>NaN</td>\n",
       "      <td>1412</td>\n",
       "      <td>1</td>\n",
       "    </tr>\n",
       "    <tr>\n",
       "      <th>333546</th>\n",
       "      <td>674.0</td>\n",
       "      <td>NaN</td>\n",
       "      <td>1.836547</td>\n",
       "      <td>Zimbabwe</td>\n",
       "      <td>1089</td>\n",
       "      <td>Zimbabwe</td>\n",
       "      <td>20</td>\n",
       "      <td>NaN</td>\n",
       "      <td>7.326955</td>\n",
       "      <td>2020-07-16 04:44:59</td>\n",
       "      <td>-19.015438</td>\n",
       "      <td>29.154857</td>\n",
       "      <td>NaN</td>\n",
       "      <td>395</td>\n",
       "      <td>1</td>\n",
       "    </tr>\n",
       "    <tr>\n",
       "      <th>333547</th>\n",
       "      <td>0.0</td>\n",
       "      <td>NaN</td>\n",
       "      <td>0.000000</td>\n",
       "      <td>Grand Princess, Canada</td>\n",
       "      <td>13</td>\n",
       "      <td>Canada</td>\n",
       "      <td>0</td>\n",
       "      <td>NaN</td>\n",
       "      <td>NaN</td>\n",
       "      <td>2020-07-13 12:34:33</td>\n",
       "      <td>NaN</td>\n",
       "      <td>NaN</td>\n",
       "      <td>Grand Princess</td>\n",
       "      <td>13</td>\n",
       "      <td>1</td>\n",
       "    </tr>\n",
       "    <tr>\n",
       "      <th>333548</th>\n",
       "      <td>1.0</td>\n",
       "      <td>Lewis</td>\n",
       "      <td>0.000000</td>\n",
       "      <td>Lewis, Idaho, US</td>\n",
       "      <td>1</td>\n",
       "      <td>US</td>\n",
       "      <td>0</td>\n",
       "      <td>16061.0</td>\n",
       "      <td>26.055237</td>\n",
       "      <td>2020-07-10 02:34:22</td>\n",
       "      <td>46.233153</td>\n",
       "      <td>-116.434146</td>\n",
       "      <td>Idaho</td>\n",
       "      <td>0</td>\n",
       "      <td>Lewis</td>\n",
       "    </tr>\n",
       "    <tr>\n",
       "      <th>333549</th>\n",
       "      <td>0.0</td>\n",
       "      <td>Wheeler</td>\n",
       "      <td>NaN</td>\n",
       "      <td>Wheeler, Oregon, US</td>\n",
       "      <td>0</td>\n",
       "      <td>US</td>\n",
       "      <td>0</td>\n",
       "      <td>41069.0</td>\n",
       "      <td>0.000000</td>\n",
       "      <td>2020-07-06 19:33:59</td>\n",
       "      <td>44.726982</td>\n",
       "      <td>-120.028143</td>\n",
       "      <td>Oregon</td>\n",
       "      <td>0</td>\n",
       "      <td>Wheeler</td>\n",
       "    </tr>\n",
       "  </tbody>\n",
       "</table>\n",
       "</div>"
      ],
      "text/plain": [
       "        Active   Admin2  Case-Fatality_Ratio            Combined_Key  \\\n",
       "333545   441.0      NaN             2.216359                  Zambia   \n",
       "333546   674.0      NaN             1.836547                Zimbabwe   \n",
       "333547     0.0      NaN             0.000000  Grand Princess, Canada   \n",
       "333548     1.0    Lewis             0.000000        Lewis, Idaho, US   \n",
       "333549     0.0  Wheeler                  NaN     Wheeler, Oregon, US   \n",
       "\n",
       "        Confirmed Country_Region  Deaths     FIPS  Incidence_Rate  \\\n",
       "333545       1895         Zambia      42      NaN       10.307901   \n",
       "333546       1089       Zimbabwe      20      NaN        7.326955   \n",
       "333547         13         Canada       0      NaN             NaN   \n",
       "333548          1             US       0  16061.0       26.055237   \n",
       "333549          0             US       0  41069.0        0.000000   \n",
       "\n",
       "                Last_Update        Lat       Long_  Province_State  Recovered  \\\n",
       "333545  2020-07-16 04:44:59 -13.133897   27.849332             NaN       1412   \n",
       "333546  2020-07-16 04:44:59 -19.015438   29.154857             NaN        395   \n",
       "333547  2020-07-13 12:34:33        NaN         NaN  Grand Princess         13   \n",
       "333548  2020-07-10 02:34:22  46.233153 -116.434146           Idaho          0   \n",
       "333549  2020-07-06 19:33:59  44.726982 -120.028143          Oregon          0   \n",
       "\n",
       "       replace_ps  \n",
       "333545          1  \n",
       "333546          1  \n",
       "333547          1  \n",
       "333548      Lewis  \n",
       "333549    Wheeler  "
      ]
     },
     "execution_count": 13,
     "metadata": {},
     "output_type": "execute_result"
    }
   ],
   "source": [
    "new_df.tail()"
   ]
  },
  {
   "cell_type": "code",
   "execution_count": 14,
   "metadata": {},
   "outputs": [],
   "source": [
    "new_df['cleaned_province_state'] = new_df['Admin2'] + ', ' + new_df['Province_State']"
   ]
  },
  {
   "cell_type": "code",
   "execution_count": 15,
   "metadata": {},
   "outputs": [
    {
     "data": {
      "text/plain": [
       "0    Abbeville, South Carolina\n",
       "1            Acadia, Louisiana\n",
       "2           Accomack, Virginia\n",
       "3                   Ada, Idaho\n",
       "4                  Adair, Iowa\n",
       "Name: cleaned_province_state, dtype: object"
      ]
     },
     "execution_count": 15,
     "metadata": {},
     "output_type": "execute_result"
    }
   ],
   "source": [
    "new_df['cleaned_province_state'].head()"
   ]
  },
  {
   "cell_type": "code",
   "execution_count": 16,
   "metadata": {},
   "outputs": [
    {
     "data": {
      "text/plain": [
       "333545                NaN\n",
       "333546                NaN\n",
       "333547                NaN\n",
       "333548       Lewis, Idaho\n",
       "333549    Wheeler, Oregon\n",
       "Name: cleaned_province_state, dtype: object"
      ]
     },
     "execution_count": 16,
     "metadata": {},
     "output_type": "execute_result"
    }
   ],
   "source": [
    "new_df['cleaned_province_state'].tail()"
   ]
  },
  {
   "cell_type": "code",
   "execution_count": 17,
   "metadata": {},
   "outputs": [],
   "source": [
    "new_df['cleaned_province_state'] = new_df['cleaned_province_state'].fillna(new_df['Province_State'],axis=0)"
   ]
  },
  {
   "cell_type": "code",
   "execution_count": 18,
   "metadata": {},
   "outputs": [],
   "source": [
    "new_df['cleaned_province_state'] = new_df['cleaned_province_state'].fillna(new_df['Country_Region'],axis=0)"
   ]
  },
  {
   "cell_type": "code",
   "execution_count": 19,
   "metadata": {},
   "outputs": [
    {
     "data": {
      "text/html": [
       "<div>\n",
       "<style scoped>\n",
       "    .dataframe tbody tr th:only-of-type {\n",
       "        vertical-align: middle;\n",
       "    }\n",
       "\n",
       "    .dataframe tbody tr th {\n",
       "        vertical-align: top;\n",
       "    }\n",
       "\n",
       "    .dataframe thead th {\n",
       "        text-align: right;\n",
       "    }\n",
       "</style>\n",
       "<table border=\"1\" class=\"dataframe\">\n",
       "  <thead>\n",
       "    <tr style=\"text-align: right;\">\n",
       "      <th></th>\n",
       "      <th>Active</th>\n",
       "      <th>Admin2</th>\n",
       "      <th>Case-Fatality_Ratio</th>\n",
       "      <th>Combined_Key</th>\n",
       "      <th>Confirmed</th>\n",
       "      <th>Country_Region</th>\n",
       "      <th>Deaths</th>\n",
       "      <th>FIPS</th>\n",
       "      <th>Incidence_Rate</th>\n",
       "      <th>Last_Update</th>\n",
       "      <th>Lat</th>\n",
       "      <th>Long_</th>\n",
       "      <th>Province_State</th>\n",
       "      <th>Recovered</th>\n",
       "      <th>replace_ps</th>\n",
       "      <th>cleaned_province_state</th>\n",
       "    </tr>\n",
       "  </thead>\n",
       "  <tbody>\n",
       "    <tr>\n",
       "      <th>333545</th>\n",
       "      <td>441.0</td>\n",
       "      <td>NaN</td>\n",
       "      <td>2.216359</td>\n",
       "      <td>Zambia</td>\n",
       "      <td>1895</td>\n",
       "      <td>Zambia</td>\n",
       "      <td>42</td>\n",
       "      <td>NaN</td>\n",
       "      <td>10.307901</td>\n",
       "      <td>2020-07-16 04:44:59</td>\n",
       "      <td>-13.133897</td>\n",
       "      <td>27.849332</td>\n",
       "      <td>NaN</td>\n",
       "      <td>1412</td>\n",
       "      <td>1</td>\n",
       "      <td>Zambia</td>\n",
       "    </tr>\n",
       "    <tr>\n",
       "      <th>333546</th>\n",
       "      <td>674.0</td>\n",
       "      <td>NaN</td>\n",
       "      <td>1.836547</td>\n",
       "      <td>Zimbabwe</td>\n",
       "      <td>1089</td>\n",
       "      <td>Zimbabwe</td>\n",
       "      <td>20</td>\n",
       "      <td>NaN</td>\n",
       "      <td>7.326955</td>\n",
       "      <td>2020-07-16 04:44:59</td>\n",
       "      <td>-19.015438</td>\n",
       "      <td>29.154857</td>\n",
       "      <td>NaN</td>\n",
       "      <td>395</td>\n",
       "      <td>1</td>\n",
       "      <td>Zimbabwe</td>\n",
       "    </tr>\n",
       "    <tr>\n",
       "      <th>333547</th>\n",
       "      <td>0.0</td>\n",
       "      <td>NaN</td>\n",
       "      <td>0.000000</td>\n",
       "      <td>Grand Princess, Canada</td>\n",
       "      <td>13</td>\n",
       "      <td>Canada</td>\n",
       "      <td>0</td>\n",
       "      <td>NaN</td>\n",
       "      <td>NaN</td>\n",
       "      <td>2020-07-13 12:34:33</td>\n",
       "      <td>NaN</td>\n",
       "      <td>NaN</td>\n",
       "      <td>Grand Princess</td>\n",
       "      <td>13</td>\n",
       "      <td>1</td>\n",
       "      <td>Grand Princess</td>\n",
       "    </tr>\n",
       "    <tr>\n",
       "      <th>333548</th>\n",
       "      <td>1.0</td>\n",
       "      <td>Lewis</td>\n",
       "      <td>0.000000</td>\n",
       "      <td>Lewis, Idaho, US</td>\n",
       "      <td>1</td>\n",
       "      <td>US</td>\n",
       "      <td>0</td>\n",
       "      <td>16061.0</td>\n",
       "      <td>26.055237</td>\n",
       "      <td>2020-07-10 02:34:22</td>\n",
       "      <td>46.233153</td>\n",
       "      <td>-116.434146</td>\n",
       "      <td>Idaho</td>\n",
       "      <td>0</td>\n",
       "      <td>Lewis</td>\n",
       "      <td>Lewis, Idaho</td>\n",
       "    </tr>\n",
       "    <tr>\n",
       "      <th>333549</th>\n",
       "      <td>0.0</td>\n",
       "      <td>Wheeler</td>\n",
       "      <td>NaN</td>\n",
       "      <td>Wheeler, Oregon, US</td>\n",
       "      <td>0</td>\n",
       "      <td>US</td>\n",
       "      <td>0</td>\n",
       "      <td>41069.0</td>\n",
       "      <td>0.000000</td>\n",
       "      <td>2020-07-06 19:33:59</td>\n",
       "      <td>44.726982</td>\n",
       "      <td>-120.028143</td>\n",
       "      <td>Oregon</td>\n",
       "      <td>0</td>\n",
       "      <td>Wheeler</td>\n",
       "      <td>Wheeler, Oregon</td>\n",
       "    </tr>\n",
       "  </tbody>\n",
       "</table>\n",
       "</div>"
      ],
      "text/plain": [
       "        Active   Admin2  Case-Fatality_Ratio            Combined_Key  \\\n",
       "333545   441.0      NaN             2.216359                  Zambia   \n",
       "333546   674.0      NaN             1.836547                Zimbabwe   \n",
       "333547     0.0      NaN             0.000000  Grand Princess, Canada   \n",
       "333548     1.0    Lewis             0.000000        Lewis, Idaho, US   \n",
       "333549     0.0  Wheeler                  NaN     Wheeler, Oregon, US   \n",
       "\n",
       "        Confirmed Country_Region  Deaths     FIPS  Incidence_Rate  \\\n",
       "333545       1895         Zambia      42      NaN       10.307901   \n",
       "333546       1089       Zimbabwe      20      NaN        7.326955   \n",
       "333547         13         Canada       0      NaN             NaN   \n",
       "333548          1             US       0  16061.0       26.055237   \n",
       "333549          0             US       0  41069.0        0.000000   \n",
       "\n",
       "                Last_Update        Lat       Long_  Province_State  Recovered  \\\n",
       "333545  2020-07-16 04:44:59 -13.133897   27.849332             NaN       1412   \n",
       "333546  2020-07-16 04:44:59 -19.015438   29.154857             NaN        395   \n",
       "333547  2020-07-13 12:34:33        NaN         NaN  Grand Princess         13   \n",
       "333548  2020-07-10 02:34:22  46.233153 -116.434146           Idaho          0   \n",
       "333549  2020-07-06 19:33:59  44.726982 -120.028143          Oregon          0   \n",
       "\n",
       "       replace_ps cleaned_province_state  \n",
       "333545          1                 Zambia  \n",
       "333546          1               Zimbabwe  \n",
       "333547          1         Grand Princess  \n",
       "333548      Lewis           Lewis, Idaho  \n",
       "333549    Wheeler        Wheeler, Oregon  "
      ]
     },
     "execution_count": 19,
     "metadata": {},
     "output_type": "execute_result"
    }
   ],
   "source": [
    "new_df.tail()"
   ]
  },
  {
   "cell_type": "code",
   "execution_count": 20,
   "metadata": {},
   "outputs": [],
   "source": [
    "col_list = ['cleaned_province_state', 'Country_Region', 'Last_Update',\n",
    "            'Confirmed', 'Deaths', 'Recovered', 'cleaned_province_state', 'Lat', 'Long_']"
   ]
  },
  {
   "cell_type": "code",
   "execution_count": 21,
   "metadata": {},
   "outputs": [
    {
     "data": {
      "text/html": [
       "<div>\n",
       "<style scoped>\n",
       "    .dataframe tbody tr th:only-of-type {\n",
       "        vertical-align: middle;\n",
       "    }\n",
       "\n",
       "    .dataframe tbody tr th {\n",
       "        vertical-align: top;\n",
       "    }\n",
       "\n",
       "    .dataframe thead th {\n",
       "        text-align: right;\n",
       "    }\n",
       "</style>\n",
       "<table border=\"1\" class=\"dataframe\">\n",
       "  <thead>\n",
       "    <tr style=\"text-align: right;\">\n",
       "      <th></th>\n",
       "      <th>cleaned_province_state</th>\n",
       "      <th>Country_Region</th>\n",
       "      <th>Last_Update</th>\n",
       "      <th>Confirmed</th>\n",
       "      <th>Deaths</th>\n",
       "      <th>Recovered</th>\n",
       "      <th>cleaned_province_state</th>\n",
       "      <th>Lat</th>\n",
       "      <th>Long_</th>\n",
       "    </tr>\n",
       "  </thead>\n",
       "  <tbody>\n",
       "    <tr>\n",
       "      <th>0</th>\n",
       "      <td>Abbeville, South Carolina</td>\n",
       "      <td>US</td>\n",
       "      <td>2020-04-11 22:45:33</td>\n",
       "      <td>9</td>\n",
       "      <td>0</td>\n",
       "      <td>0</td>\n",
       "      <td>Abbeville, South Carolina</td>\n",
       "      <td>34.223334</td>\n",
       "      <td>-82.461707</td>\n",
       "    </tr>\n",
       "    <tr>\n",
       "      <th>1</th>\n",
       "      <td>Acadia, Louisiana</td>\n",
       "      <td>US</td>\n",
       "      <td>2020-04-11 22:45:33</td>\n",
       "      <td>98</td>\n",
       "      <td>4</td>\n",
       "      <td>0</td>\n",
       "      <td>Acadia, Louisiana</td>\n",
       "      <td>30.295065</td>\n",
       "      <td>-92.414197</td>\n",
       "    </tr>\n",
       "    <tr>\n",
       "      <th>2</th>\n",
       "      <td>Accomack, Virginia</td>\n",
       "      <td>US</td>\n",
       "      <td>2020-04-11 22:45:33</td>\n",
       "      <td>15</td>\n",
       "      <td>0</td>\n",
       "      <td>0</td>\n",
       "      <td>Accomack, Virginia</td>\n",
       "      <td>37.767072</td>\n",
       "      <td>-75.632346</td>\n",
       "    </tr>\n",
       "    <tr>\n",
       "      <th>3</th>\n",
       "      <td>Ada, Idaho</td>\n",
       "      <td>US</td>\n",
       "      <td>2020-04-11 22:45:33</td>\n",
       "      <td>513</td>\n",
       "      <td>6</td>\n",
       "      <td>0</td>\n",
       "      <td>Ada, Idaho</td>\n",
       "      <td>43.452658</td>\n",
       "      <td>-116.241552</td>\n",
       "    </tr>\n",
       "    <tr>\n",
       "      <th>4</th>\n",
       "      <td>Adair, Iowa</td>\n",
       "      <td>US</td>\n",
       "      <td>2020-04-11 22:45:33</td>\n",
       "      <td>1</td>\n",
       "      <td>0</td>\n",
       "      <td>0</td>\n",
       "      <td>Adair, Iowa</td>\n",
       "      <td>41.330756</td>\n",
       "      <td>-94.471059</td>\n",
       "    </tr>\n",
       "  </tbody>\n",
       "</table>\n",
       "</div>"
      ],
      "text/plain": [
       "      cleaned_province_state Country_Region          Last_Update  Confirmed  \\\n",
       "0  Abbeville, South Carolina             US  2020-04-11 22:45:33          9   \n",
       "1          Acadia, Louisiana             US  2020-04-11 22:45:33         98   \n",
       "2         Accomack, Virginia             US  2020-04-11 22:45:33         15   \n",
       "3                 Ada, Idaho             US  2020-04-11 22:45:33        513   \n",
       "4                Adair, Iowa             US  2020-04-11 22:45:33          1   \n",
       "\n",
       "   Deaths  Recovered     cleaned_province_state        Lat       Long_  \n",
       "0       0          0  Abbeville, South Carolina  34.223334  -82.461707  \n",
       "1       4          0          Acadia, Louisiana  30.295065  -92.414197  \n",
       "2       0          0         Accomack, Virginia  37.767072  -75.632346  \n",
       "3       6          0                 Ada, Idaho  43.452658 -116.241552  \n",
       "4       0          0                Adair, Iowa  41.330756  -94.471059  "
      ]
     },
     "execution_count": 21,
     "metadata": {},
     "output_type": "execute_result"
    }
   ],
   "source": [
    "new_df[col_list].head()"
   ]
  },
  {
   "cell_type": "code",
   "execution_count": 22,
   "metadata": {},
   "outputs": [],
   "source": [
    "cleaned_df = new_df[col_list]"
   ]
  },
  {
   "cell_type": "code",
   "execution_count": 23,
   "metadata": {},
   "outputs": [],
   "source": [
    "cleaned_df = cleaned_df.rename(columns={'cleaned_province_state': 'Province_State',\n",
    "                           'Country_Region': 'Country',\n",
    "                           'Last_Update': 'Last_Update',\n",
    "                           'Confirmed': 'Confirmed',\n",
    "                           'Deaths': 'Deaths',\n",
    "                           'Recovered': 'Recovered',\n",
    "                           'cleaned_province_state': 'Province_State',\n",
    "                           'Lat': 'Lat',\n",
    "                           'Long_': 'Lon'\n",
    "                          })"
   ]
  },
  {
   "cell_type": "code",
   "execution_count": 24,
   "metadata": {},
   "outputs": [
    {
     "data": {
      "text/html": [
       "<div>\n",
       "<style scoped>\n",
       "    .dataframe tbody tr th:only-of-type {\n",
       "        vertical-align: middle;\n",
       "    }\n",
       "\n",
       "    .dataframe tbody tr th {\n",
       "        vertical-align: top;\n",
       "    }\n",
       "\n",
       "    .dataframe thead th {\n",
       "        text-align: right;\n",
       "    }\n",
       "</style>\n",
       "<table border=\"1\" class=\"dataframe\">\n",
       "  <thead>\n",
       "    <tr style=\"text-align: right;\">\n",
       "      <th></th>\n",
       "      <th>Province_State</th>\n",
       "      <th>Country</th>\n",
       "      <th>Last_Update</th>\n",
       "      <th>Confirmed</th>\n",
       "      <th>Deaths</th>\n",
       "      <th>Recovered</th>\n",
       "      <th>Province_State</th>\n",
       "      <th>Lat</th>\n",
       "      <th>Lon</th>\n",
       "    </tr>\n",
       "  </thead>\n",
       "  <tbody>\n",
       "    <tr>\n",
       "      <th>0</th>\n",
       "      <td>Abbeville, South Carolina</td>\n",
       "      <td>US</td>\n",
       "      <td>2020-04-11 22:45:33</td>\n",
       "      <td>9</td>\n",
       "      <td>0</td>\n",
       "      <td>0</td>\n",
       "      <td>Abbeville, South Carolina</td>\n",
       "      <td>34.223334</td>\n",
       "      <td>-82.461707</td>\n",
       "    </tr>\n",
       "    <tr>\n",
       "      <th>1</th>\n",
       "      <td>Acadia, Louisiana</td>\n",
       "      <td>US</td>\n",
       "      <td>2020-04-11 22:45:33</td>\n",
       "      <td>98</td>\n",
       "      <td>4</td>\n",
       "      <td>0</td>\n",
       "      <td>Acadia, Louisiana</td>\n",
       "      <td>30.295065</td>\n",
       "      <td>-92.414197</td>\n",
       "    </tr>\n",
       "    <tr>\n",
       "      <th>2</th>\n",
       "      <td>Accomack, Virginia</td>\n",
       "      <td>US</td>\n",
       "      <td>2020-04-11 22:45:33</td>\n",
       "      <td>15</td>\n",
       "      <td>0</td>\n",
       "      <td>0</td>\n",
       "      <td>Accomack, Virginia</td>\n",
       "      <td>37.767072</td>\n",
       "      <td>-75.632346</td>\n",
       "    </tr>\n",
       "    <tr>\n",
       "      <th>3</th>\n",
       "      <td>Ada, Idaho</td>\n",
       "      <td>US</td>\n",
       "      <td>2020-04-11 22:45:33</td>\n",
       "      <td>513</td>\n",
       "      <td>6</td>\n",
       "      <td>0</td>\n",
       "      <td>Ada, Idaho</td>\n",
       "      <td>43.452658</td>\n",
       "      <td>-116.241552</td>\n",
       "    </tr>\n",
       "    <tr>\n",
       "      <th>4</th>\n",
       "      <td>Adair, Iowa</td>\n",
       "      <td>US</td>\n",
       "      <td>2020-04-11 22:45:33</td>\n",
       "      <td>1</td>\n",
       "      <td>0</td>\n",
       "      <td>0</td>\n",
       "      <td>Adair, Iowa</td>\n",
       "      <td>41.330756</td>\n",
       "      <td>-94.471059</td>\n",
       "    </tr>\n",
       "  </tbody>\n",
       "</table>\n",
       "</div>"
      ],
      "text/plain": [
       "              Province_State Country          Last_Update  Confirmed  Deaths  \\\n",
       "0  Abbeville, South Carolina      US  2020-04-11 22:45:33          9       0   \n",
       "1          Acadia, Louisiana      US  2020-04-11 22:45:33         98       4   \n",
       "2         Accomack, Virginia      US  2020-04-11 22:45:33         15       0   \n",
       "3                 Ada, Idaho      US  2020-04-11 22:45:33        513       6   \n",
       "4                Adair, Iowa      US  2020-04-11 22:45:33          1       0   \n",
       "\n",
       "   Recovered             Province_State        Lat         Lon  \n",
       "0          0  Abbeville, South Carolina  34.223334  -82.461707  \n",
       "1          0          Acadia, Louisiana  30.295065  -92.414197  \n",
       "2          0         Accomack, Virginia  37.767072  -75.632346  \n",
       "3          0                 Ada, Idaho  43.452658 -116.241552  \n",
       "4          0                Adair, Iowa  41.330756  -94.471059  "
      ]
     },
     "execution_count": 24,
     "metadata": {},
     "output_type": "execute_result"
    }
   ],
   "source": [
    "cleaned_df.head()"
   ]
  },
  {
   "cell_type": "code",
   "execution_count": 25,
   "metadata": {},
   "outputs": [
    {
     "data": {
      "text/plain": [
       "Province_State     object\n",
       "Country            object\n",
       "Last_Update        object\n",
       "Confirmed           int64\n",
       "Deaths              int64\n",
       "Recovered           int64\n",
       "Province_State     object\n",
       "Lat               float64\n",
       "Lon               float64\n",
       "dtype: object"
      ]
     },
     "execution_count": 25,
     "metadata": {},
     "output_type": "execute_result"
    }
   ],
   "source": [
    "cleaned_df.dtypes"
   ]
  },
  {
   "cell_type": "code",
   "execution_count": 26,
   "metadata": {},
   "outputs": [],
   "source": [
    "cleaned_df['Last_Update'] = pd.to_datetime(cleaned_df['Last_Update']).dt.date"
   ]
  },
  {
   "cell_type": "code",
   "execution_count": 27,
   "metadata": {},
   "outputs": [
    {
     "data": {
      "text/html": [
       "<div>\n",
       "<style scoped>\n",
       "    .dataframe tbody tr th:only-of-type {\n",
       "        vertical-align: middle;\n",
       "    }\n",
       "\n",
       "    .dataframe tbody tr th {\n",
       "        vertical-align: top;\n",
       "    }\n",
       "\n",
       "    .dataframe thead th {\n",
       "        text-align: right;\n",
       "    }\n",
       "</style>\n",
       "<table border=\"1\" class=\"dataframe\">\n",
       "  <thead>\n",
       "    <tr style=\"text-align: right;\">\n",
       "      <th></th>\n",
       "      <th>Province_State</th>\n",
       "      <th>Country</th>\n",
       "      <th>Last_Update</th>\n",
       "      <th>Confirmed</th>\n",
       "      <th>Deaths</th>\n",
       "      <th>Recovered</th>\n",
       "      <th>Province_State</th>\n",
       "      <th>Lat</th>\n",
       "      <th>Lon</th>\n",
       "    </tr>\n",
       "  </thead>\n",
       "  <tbody>\n",
       "    <tr>\n",
       "      <th>333545</th>\n",
       "      <td>Zambia</td>\n",
       "      <td>Zambia</td>\n",
       "      <td>2020-07-16</td>\n",
       "      <td>1895</td>\n",
       "      <td>42</td>\n",
       "      <td>1412</td>\n",
       "      <td>Zambia</td>\n",
       "      <td>-13.133897</td>\n",
       "      <td>27.849332</td>\n",
       "    </tr>\n",
       "    <tr>\n",
       "      <th>333546</th>\n",
       "      <td>Zimbabwe</td>\n",
       "      <td>Zimbabwe</td>\n",
       "      <td>2020-07-16</td>\n",
       "      <td>1089</td>\n",
       "      <td>20</td>\n",
       "      <td>395</td>\n",
       "      <td>Zimbabwe</td>\n",
       "      <td>-19.015438</td>\n",
       "      <td>29.154857</td>\n",
       "    </tr>\n",
       "    <tr>\n",
       "      <th>333547</th>\n",
       "      <td>Grand Princess</td>\n",
       "      <td>Canada</td>\n",
       "      <td>2020-07-13</td>\n",
       "      <td>13</td>\n",
       "      <td>0</td>\n",
       "      <td>13</td>\n",
       "      <td>Grand Princess</td>\n",
       "      <td>NaN</td>\n",
       "      <td>NaN</td>\n",
       "    </tr>\n",
       "    <tr>\n",
       "      <th>333548</th>\n",
       "      <td>Lewis, Idaho</td>\n",
       "      <td>US</td>\n",
       "      <td>2020-07-10</td>\n",
       "      <td>1</td>\n",
       "      <td>0</td>\n",
       "      <td>0</td>\n",
       "      <td>Lewis, Idaho</td>\n",
       "      <td>46.233153</td>\n",
       "      <td>-116.434146</td>\n",
       "    </tr>\n",
       "    <tr>\n",
       "      <th>333549</th>\n",
       "      <td>Wheeler, Oregon</td>\n",
       "      <td>US</td>\n",
       "      <td>2020-07-06</td>\n",
       "      <td>0</td>\n",
       "      <td>0</td>\n",
       "      <td>0</td>\n",
       "      <td>Wheeler, Oregon</td>\n",
       "      <td>44.726982</td>\n",
       "      <td>-120.028143</td>\n",
       "    </tr>\n",
       "  </tbody>\n",
       "</table>\n",
       "</div>"
      ],
      "text/plain": [
       "         Province_State   Country Last_Update  Confirmed  Deaths  Recovered  \\\n",
       "333545           Zambia    Zambia  2020-07-16       1895      42       1412   \n",
       "333546         Zimbabwe  Zimbabwe  2020-07-16       1089      20        395   \n",
       "333547   Grand Princess    Canada  2020-07-13         13       0         13   \n",
       "333548     Lewis, Idaho        US  2020-07-10          1       0          0   \n",
       "333549  Wheeler, Oregon        US  2020-07-06          0       0          0   \n",
       "\n",
       "         Province_State        Lat         Lon  \n",
       "333545           Zambia -13.133897   27.849332  \n",
       "333546         Zimbabwe -19.015438   29.154857  \n",
       "333547   Grand Princess        NaN         NaN  \n",
       "333548     Lewis, Idaho  46.233153 -116.434146  \n",
       "333549  Wheeler, Oregon  44.726982 -120.028143  "
      ]
     },
     "execution_count": 27,
     "metadata": {},
     "output_type": "execute_result"
    }
   ],
   "source": [
    "cleaned_df.tail()"
   ]
  },
  {
   "cell_type": "code",
   "execution_count": 28,
   "metadata": {},
   "outputs": [],
   "source": [
    "main_folder_path = os.chdir('..')"
   ]
  },
  {
   "cell_type": "code",
   "execution_count": 29,
   "metadata": {},
   "outputs": [],
   "source": [
    "main_folder_path"
   ]
  },
  {
   "cell_type": "code",
   "execution_count": 30,
   "metadata": {},
   "outputs": [
    {
     "data": {
      "text/plain": [
       "'C:\\\\Users\\\\David Ly\\\\Documents\\\\Programming\\\\COVID19'"
      ]
     },
     "execution_count": 30,
     "metadata": {},
     "output_type": "execute_result"
    }
   ],
   "source": [
    "os.getcwd()"
   ]
  },
  {
   "cell_type": "code",
   "execution_count": 31,
   "metadata": {},
   "outputs": [
    {
     "data": {
      "text/plain": [
       "'C:\\\\Users\\\\David Ly\\\\Documents\\\\Programming\\\\COVID19'"
      ]
     },
     "execution_count": 31,
     "metadata": {},
     "output_type": "execute_result"
    }
   ],
   "source": [
    "os.path.abspath('')"
   ]
  },
  {
   "cell_type": "code",
   "execution_count": 32,
   "metadata": {},
   "outputs": [],
   "source": [
    "# os.chdir('..')"
   ]
  },
  {
   "cell_type": "code",
   "execution_count": 33,
   "metadata": {},
   "outputs": [],
   "source": [
    "cleaned_df.to_csv('cleaned_data.csv', index=False)"
   ]
  },
  {
   "cell_type": "code",
   "execution_count": 34,
   "metadata": {},
   "outputs": [
    {
     "data": {
      "text/plain": [
       "['.git',\n",
       " '.Rproj.user',\n",
       " 'cleaned_data.csv',\n",
       " 'ComputerVision',\n",
       " 'COVID-19',\n",
       " 'COVID19',\n",
       " 'DataScience',\n",
       " 'DeepLearning',\n",
       " 'InterviewPrep',\n",
       " 'LargeData',\n",
       " 'LDW',\n",
       " 'MachineLearning',\n",
       " 'Portfolio',\n",
       " 'PyScripts',\n",
       " 'Python',\n",
       " 'PythonDSMLBootcamp',\n",
       " 'R']"
      ]
     },
     "execution_count": 34,
     "metadata": {},
     "output_type": "execute_result"
    }
   ],
   "source": [
    "os.listdir()"
   ]
  }
 ],
 "metadata": {
  "kernelspec": {
   "display_name": "Python 3",
   "language": "python",
   "name": "python3"
  },
  "language_info": {
   "codemirror_mode": {
    "name": "ipython",
    "version": 3
   },
   "file_extension": ".py",
   "mimetype": "text/x-python",
   "name": "python",
   "nbconvert_exporter": "python",
   "pygments_lexer": "ipython3",
   "version": "3.7.3"
  }
 },
 "nbformat": 4,
 "nbformat_minor": 2
}
