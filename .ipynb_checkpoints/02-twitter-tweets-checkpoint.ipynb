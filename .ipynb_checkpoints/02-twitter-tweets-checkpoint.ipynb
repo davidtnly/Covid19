{
 "cells": [
  {
   "cell_type": "markdown",
   "metadata": {},
   "source": [
    "#### tutorial"
   ]
  },
  {
   "cell_type": "code",
   "execution_count": 4,
   "metadata": {},
   "outputs": [],
   "source": [
    "\n",
    "from tweepy import OAuthHandler\n",
    "from tweepy import API\n",
    "\n",
    "access_token = '1430252922-4eOrB22WjRJkrZFRktCts6P7Uy8hcHsSXmlvVsN'\n",
    "access_token_secret = 'zIIwOuc0IwvJat9IBPa9hutU1jgbn5OptGaPo3bpOzDoH'\n",
    "consumer_key = 'TgHHdtHcN6o2i12J9j1wO7eZK' \n",
    "consumer_secret='GSuUPhEbPyn4858zaWWAI02Ws5x89g0rMaNknwwEqzD91CwBWu'\n",
    "\n",
    "# # mine\n",
    "# access_token = '145089396-29Tv9xlNxUdqYSRc9zR1in3JQVmSl4iFUzz50c0T'\n",
    "# access_token_secret = 'msKjEArqBZSEaRFntj4IN5yBCxpIi9SCGeRthbatXFcLU'\n",
    "# consumer_key = 'xDuETexzyS9PIkRBty7pTMSJ1'\n",
    "# consumer_secret= 'VGz43C87EJIIrfEuwTlpgMjtS1CXw9T5CxDIcVhztQ2mkKGATH'\n",
    "             \n",
    "# Consumer key authentication\n",
    "auth = OAuthHandler(consumer_key, consumer_secret)\n",
    "\n",
    "# Access key authentication\n",
    "auth.set_access_token(access_token, access_token_secret)\n",
    "\n",
    "# Set up the API with the authentication handler\n",
    "api = API(auth)"
   ]
  },
  {
   "cell_type": "code",
   "execution_count": null,
   "metadata": {},
   "outputs": [],
   "source": []
  }
 ],
 "metadata": {
  "kernelspec": {
   "display_name": "Python 3",
   "language": "python",
   "name": "python3"
  },
  "language_info": {
   "codemirror_mode": {
    "name": "ipython",
    "version": 3
   },
   "file_extension": ".py",
   "mimetype": "text/x-python",
   "name": "python",
   "nbconvert_exporter": "python",
   "pygments_lexer": "ipython3",
   "version": "3.7.3"
  }
 },
 "nbformat": 4,
 "nbformat_minor": 2
}
